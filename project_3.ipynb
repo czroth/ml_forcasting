{
 "cells": [
  {
   "attachments": {},
   "cell_type": "markdown",
   "metadata": {},
   "source": [
    "# Project 3\n",
    "\n",
    "We've built low-level models, and we've built high-level models. Now, our goal is two-fold:\n",
    "\n",
    "- Build low-level models into better high-level models, and vice-versa.\n",
    "- Ensemble our models to make them more reliable\n",
    "\n",
    "The process for performing hierarchical reconciliation is laid out well [here](https://nixtla.github.io/hierarchicalforecast/examples/tourismsmall.html). I'd recommend following along!\n",
    "\n",
    "Let's get going!"
   ]
  },
  {
   "cell_type": "code",
   "execution_count": null,
   "metadata": {},
   "outputs": [],
   "source": [
    "! pip install statsforecast mlforecast hierarchicalforecast"
   ]
  },
  {
   "cell_type": "code",
   "metadata": {
    "ExecuteTime": {
     "end_time": "2024-08-12T22:43:37.959215Z",
     "start_time": "2024-08-12T22:43:37.952802Z"
    }
   },
   "source": "data_dir = 'data/project_3_data'",
   "outputs": [],
   "execution_count": 1
  },
  {
   "cell_type": "code",
   "metadata": {
    "ExecuteTime": {
     "end_time": "2024-08-12T22:43:40.371749Z",
     "start_time": "2024-08-12T22:43:38.758041Z"
    }
   },
   "source": [
    "# add imports\n",
    "\n",
    "import matplotlib.pyplot as plt\n",
    "import pandas as pd\n",
    "import numpy as np"
   ],
   "outputs": [],
   "execution_count": 2
  },
  {
   "attachments": {},
   "cell_type": "markdown",
   "metadata": {},
   "source": [
    "We're going to start by building a model at the store-deparment level. Our goal is to create a forecast at that level that coherently aggregates up to the state level."
   ]
  },
  {
   "cell_type": "code",
   "metadata": {
    "ExecuteTime": {
     "end_time": "2024-08-12T22:22:42.502406Z",
     "start_time": "2024-08-12T22:22:16.988885Z"
    }
   },
   "source": [
    "data = (\n",
    "    pd.read_parquet(f'{data_dir}/sales_data.parquet')\n",
    "    .reset_index()\n",
    "    .rename(columns={'date': 'ds', 'sales': 'y'})\n",
    "    .assign(store_dept_id=lambda df: df.store_id + '_' + df.dept_id)\n",
    "    .groupby(['ds', 'store_dept_id', 'store_id', 'state_id'])\n",
    "    .y\n",
    "    .sum()\n",
    "    .reset_index()\n",
    ")\n",
    "data.head()"
   ],
   "outputs": [
    {
     "data": {
      "text/plain": [
       "          ds   store_dept_id store_id state_id     y\n",
       "0 2013-01-01    TX_1_FOODS_1     TX_1       TX   195\n",
       "1 2013-01-01    TX_1_FOODS_2     TX_1       TX   271\n",
       "2 2013-01-01    TX_1_FOODS_3     TX_1       TX  1141\n",
       "3 2013-01-01  TX_1_HOBBIES_1     TX_1       TX    83\n",
       "4 2013-01-01  TX_1_HOBBIES_2     TX_1       TX    11"
      ],
      "text/html": [
       "<div>\n",
       "<style scoped>\n",
       "    .dataframe tbody tr th:only-of-type {\n",
       "        vertical-align: middle;\n",
       "    }\n",
       "\n",
       "    .dataframe tbody tr th {\n",
       "        vertical-align: top;\n",
       "    }\n",
       "\n",
       "    .dataframe thead th {\n",
       "        text-align: right;\n",
       "    }\n",
       "</style>\n",
       "<table border=\"1\" class=\"dataframe\">\n",
       "  <thead>\n",
       "    <tr style=\"text-align: right;\">\n",
       "      <th></th>\n",
       "      <th>ds</th>\n",
       "      <th>store_dept_id</th>\n",
       "      <th>store_id</th>\n",
       "      <th>state_id</th>\n",
       "      <th>y</th>\n",
       "    </tr>\n",
       "  </thead>\n",
       "  <tbody>\n",
       "    <tr>\n",
       "      <th>0</th>\n",
       "      <td>2013-01-01</td>\n",
       "      <td>TX_1_FOODS_1</td>\n",
       "      <td>TX_1</td>\n",
       "      <td>TX</td>\n",
       "      <td>195</td>\n",
       "    </tr>\n",
       "    <tr>\n",
       "      <th>1</th>\n",
       "      <td>2013-01-01</td>\n",
       "      <td>TX_1_FOODS_2</td>\n",
       "      <td>TX_1</td>\n",
       "      <td>TX</td>\n",
       "      <td>271</td>\n",
       "    </tr>\n",
       "    <tr>\n",
       "      <th>2</th>\n",
       "      <td>2013-01-01</td>\n",
       "      <td>TX_1_FOODS_3</td>\n",
       "      <td>TX_1</td>\n",
       "      <td>TX</td>\n",
       "      <td>1141</td>\n",
       "    </tr>\n",
       "    <tr>\n",
       "      <th>3</th>\n",
       "      <td>2013-01-01</td>\n",
       "      <td>TX_1_HOBBIES_1</td>\n",
       "      <td>TX_1</td>\n",
       "      <td>TX</td>\n",
       "      <td>83</td>\n",
       "    </tr>\n",
       "    <tr>\n",
       "      <th>4</th>\n",
       "      <td>2013-01-01</td>\n",
       "      <td>TX_1_HOBBIES_2</td>\n",
       "      <td>TX_1</td>\n",
       "      <td>TX</td>\n",
       "      <td>11</td>\n",
       "    </tr>\n",
       "  </tbody>\n",
       "</table>\n",
       "</div>"
      ]
     },
     "execution_count": 4,
     "metadata": {},
     "output_type": "execute_result"
    }
   ],
   "execution_count": 4
  },
  {
   "attachments": {},
   "cell_type": "markdown",
   "metadata": {},
   "source": [
    "Now it's time to set up our hierarchical data. Use the `aggregate` method from `hierarchicalforecast` to hierarchically structure our data and get the proper summing dataframe."
   ]
  },
  {
   "cell_type": "code",
   "metadata": {
    "ExecuteTime": {
     "end_time": "2024-08-12T22:24:03.667461Z",
     "start_time": "2024-08-12T22:24:03.574616Z"
    }
   },
   "source": [
    "from hierarchicalforecast.utils import aggregate\n",
    "\n",
    "# this is the `spec` argument in the `aggregate` function\n",
    "hierarchy_levels = [['state_id'],\n",
    "                    ['state_id', 'store_id'],\n",
    "                    ['state_id', 'store_id', 'store_dept_id']]\n",
    "y_hier, S_df, tags = aggregate(data, spec=hierarchy_levels)\n",
    "y_hier = y_hier.reset_index()"
   ],
   "outputs": [],
   "execution_count": 7
  },
  {
   "cell_type": "code",
   "metadata": {
    "ExecuteTime": {
     "end_time": "2024-08-12T22:24:22.379282Z",
     "start_time": "2024-08-12T22:24:22.149660Z"
    }
   },
   "source": [
    "from hierarchicalforecast.utils import HierarchicalPlot\n",
    "\n",
    "HierarchicalPlot(S_df, tags).plot_summing_matrix()"
   ],
   "outputs": [
    {
     "data": {
      "text/plain": [
       "<Figure size 320x480 with 1 Axes>"
      ],
      "image/png": "[encoded data removed]"
     },
     "metadata": {},
     "output_type": "display_data"
    }
   ],
   "execution_count": 8
  },
  {
   "attachments": {},
   "cell_type": "markdown",
   "metadata": {},
   "source": [
    "I went ahead and split your data for you. Train a `StatsForecast` model (any algorithm works, I used AutoARIMA). Be sure to grab the fitted values (i.e. the predictions on the training set), since we'll need that later."
   ]
  },
  {
   "cell_type": "code",
   "metadata": {
    "ExecuteTime": {
     "end_time": "2024-08-12T22:35:50.149775Z",
     "start_time": "2024-08-12T22:35:50.135312Z"
    }
   },
   "source": [
    "val = y_hier.groupby('unique_id').tail(28)\n",
    "train = y_hier.drop(val.index)"
   ],
   "outputs": [],
   "execution_count": 36
  },
  {
   "cell_type": "code",
   "metadata": {
    "ExecuteTime": {
     "end_time": "2024-08-12T22:26:31.174923Z",
     "start_time": "2024-08-12T22:25:42.006563Z"
    }
   },
   "source": [
    "from statsforecast import StatsForecast\n",
    "from statsforecast.models import AutoARIMA\n",
    "\n",
    "fcst = StatsForecast(models=[AutoARIMA()], freq='D', df=train)\n",
    "y_fcst = fcst.forecast(h=28, fitted=True) # forecast on the validation period\n",
    "y_fitted = fcst.forecast_fitted_values() # fitted values, i.e. forecast on the training data"
   ],
   "outputs": [
    {
     "name": "stderr",
     "output_type": "stream",
     "text": [
      "/home/chris/PycharmProjects/ml_forcasting/venv/lib/python3.11/site-packages/statsforecast/core.py:474: FutureWarning: The `df` argument of the StatsForecast constructor as well as reusing stored dfs from other methods is deprecated and will raise an error in a future version. Please provide the `df` argument to the corresponding method instead, e.g. fit/forecast.\n",
      "  warnings.warn(\n",
      "/home/chris/PycharmProjects/ml_forcasting/venv/lib/python3.11/site-packages/statsforecast/core.py:474: FutureWarning: The `df` argument of the StatsForecast constructor as well as reusing stored dfs from other methods is deprecated and will raise an error in a future version. Please provide the `df` argument to the corresponding method instead, e.g. fit/forecast.\n",
      "  warnings.warn(\n",
      "/home/chris/PycharmProjects/ml_forcasting/venv/lib/python3.11/site-packages/statsforecast/core.py:492: FutureWarning: In a future version the predictions will have the id as a column. You can set the `NIXTLA_ID_AS_COL` environment variable to adopt the new behavior and to suppress this warning.\n",
      "  warnings.warn(\n",
      "/home/chris/PycharmProjects/ml_forcasting/venv/lib/python3.11/site-packages/statsforecast/core.py:492: FutureWarning: In a future version the predictions will have the id as a column. You can set the `NIXTLA_ID_AS_COL` environment variable to adopt the new behavior and to suppress this warning.\n",
      "  warnings.warn(\n"
     ]
    }
   ],
   "execution_count": 11
  },
  {
   "attachments": {},
   "cell_type": "markdown",
   "metadata": {},
   "source": [
    "Use the `StatsForecast.plot` method to visualize your predictions. Try passing `plot_random=False` to see how the model performs at the top levels."
   ]
  },
  {
   "metadata": {
    "ExecuteTime": {
     "end_time": "2024-08-12T22:28:24.963891Z",
     "start_time": "2024-08-12T22:28:24.950251Z"
    }
   },
   "cell_type": "code",
   "source": "y_fcst",
   "outputs": [
    {
     "data": {
      "text/plain": [
       "                                 ds     AutoARIMA\n",
       "unique_id                                        \n",
       "TX                       2016-04-25  11427.172852\n",
       "TX                       2016-04-26  11014.785156\n",
       "TX                       2016-04-27  11015.019531\n",
       "TX                       2016-04-28  11111.439453\n",
       "TX                       2016-04-29  11145.130859\n",
       "...                             ...           ...\n",
       "TX/TX_3/TX_3_HOUSEHOLD_2 2016-05-18    172.754364\n",
       "TX/TX_3/TX_3_HOUSEHOLD_2 2016-05-19    172.757294\n",
       "TX/TX_3/TX_3_HOUSEHOLD_2 2016-05-20    172.806396\n",
       "TX/TX_3/TX_3_HOUSEHOLD_2 2016-05-21    172.852463\n",
       "TX/TX_3/TX_3_HOUSEHOLD_2 2016-05-22    172.866409\n",
       "\n",
       "[700 rows x 2 columns]"
      ],
      "text/html": [
       "<div>\n",
       "<style scoped>\n",
       "    .dataframe tbody tr th:only-of-type {\n",
       "        vertical-align: middle;\n",
       "    }\n",
       "\n",
       "    .dataframe tbody tr th {\n",
       "        vertical-align: top;\n",
       "    }\n",
       "\n",
       "    .dataframe thead th {\n",
       "        text-align: right;\n",
       "    }\n",
       "</style>\n",
       "<table border=\"1\" class=\"dataframe\">\n",
       "  <thead>\n",
       "    <tr style=\"text-align: right;\">\n",
       "      <th></th>\n",
       "      <th>ds</th>\n",
       "      <th>AutoARIMA</th>\n",
       "    </tr>\n",
       "    <tr>\n",
       "      <th>unique_id</th>\n",
       "      <th></th>\n",
       "      <th></th>\n",
       "    </tr>\n",
       "  </thead>\n",
       "  <tbody>\n",
       "    <tr>\n",
       "      <th>TX</th>\n",
       "      <td>2016-04-25</td>\n",
       "      <td>11427.172852</td>\n",
       "    </tr>\n",
       "    <tr>\n",
       "      <th>TX</th>\n",
       "      <td>2016-04-26</td>\n",
       "      <td>11014.785156</td>\n",
       "    </tr>\n",
       "    <tr>\n",
       "      <th>TX</th>\n",
       "      <td>2016-04-27</td>\n",
       "      <td>11015.019531</td>\n",
       "    </tr>\n",
       "    <tr>\n",
       "      <th>TX</th>\n",
       "      <td>2016-04-28</td>\n",
       "      <td>11111.439453</td>\n",
       "    </tr>\n",
       "    <tr>\n",
       "      <th>TX</th>\n",
       "      <td>2016-04-29</td>\n",
       "      <td>11145.130859</td>\n",
       "    </tr>\n",
       "    <tr>\n",
       "      <th>...</th>\n",
       "      <td>...</td>\n",
       "      <td>...</td>\n",
       "    </tr>\n",
       "    <tr>\n",
       "      <th>TX/TX_3/TX_3_HOUSEHOLD_2</th>\n",
       "      <td>2016-05-18</td>\n",
       "      <td>172.754364</td>\n",
       "    </tr>\n",
       "    <tr>\n",
       "      <th>TX/TX_3/TX_3_HOUSEHOLD_2</th>\n",
       "      <td>2016-05-19</td>\n",
       "      <td>172.757294</td>\n",
       "    </tr>\n",
       "    <tr>\n",
       "      <th>TX/TX_3/TX_3_HOUSEHOLD_2</th>\n",
       "      <td>2016-05-20</td>\n",
       "      <td>172.806396</td>\n",
       "    </tr>\n",
       "    <tr>\n",
       "      <th>TX/TX_3/TX_3_HOUSEHOLD_2</th>\n",
       "      <td>2016-05-21</td>\n",
       "      <td>172.852463</td>\n",
       "    </tr>\n",
       "    <tr>\n",
       "      <th>TX/TX_3/TX_3_HOUSEHOLD_2</th>\n",
       "      <td>2016-05-22</td>\n",
       "      <td>172.866409</td>\n",
       "    </tr>\n",
       "  </tbody>\n",
       "</table>\n",
       "<p>700 rows × 2 columns</p>\n",
       "</div>"
      ]
     },
     "execution_count": 13,
     "metadata": {},
     "output_type": "execute_result"
    }
   ],
   "execution_count": 13
  },
  {
   "cell_type": "code",
   "metadata": {
    "ExecuteTime": {
     "end_time": "2024-08-12T22:31:36.818426Z",
     "start_time": "2024-08-12T22:31:36.616308Z"
    }
   },
   "source": [
    "# statsforecast plots go here\n",
    "\n",
    "y_fcst[('AutoARIMA')].plot()\n",
    "plt.xticks(rotation = 45);"
   ],
   "outputs": [
    {
     "data": {
      "text/plain": [
       "<Figure size 640x480 with 1 Axes>"
      ],
      "image/png": "[encoded data removed]"
     },
     "metadata": {},
     "output_type": "display_data"
    }
   ],
   "execution_count": 21
  },
  {
   "attachments": {},
   "cell_type": "markdown",
   "metadata": {},
   "source": [
    "Now it's time to reconcile! Use the BottomUp, TopDown, and MinTrace reconciliation methods. For TopDown and MinTrace, try out the different methods provided by `hierarchicalforecast` to see which ones work best."
   ]
  },
  {
   "cell_type": "code",
   "metadata": {
    "ExecuteTime": {
     "end_time": "2024-08-12T22:33:05.717727Z",
     "start_time": "2024-08-12T22:33:05.276098Z"
    }
   },
   "source": [
    "from hierarchicalforecast.core import HierarchicalReconciliation\n",
    "from hierarchicalforecast.methods import BottomUp, TopDown, MinTrace\n",
    "\n",
    "reconcilers = [\n",
    "    BottomUp(),\n",
    "    TopDown(method='forecast_proportions'),\n",
    "    MinTrace(method='ols')\n",
    "]\n",
    "hrec = HierarchicalReconciliation(reconcilers=reconcilers)\n",
    "\n",
    "y_rec = hrec.reconcile(\n",
    "    Y_hat_df=y_fcst,\n",
    "    S=S_df,\n",
    "    tags=tags\n",
    ")\n",
    "\n",
    "y_rec_grouped = y_rec.groupby('unique_id', observed=True).head(2).head(10)"
   ],
   "outputs": [],
   "execution_count": 24
  },
  {
   "metadata": {
    "ExecuteTime": {
     "end_time": "2024-08-12T22:34:11.608165Z",
     "start_time": "2024-08-12T22:34:11.590226Z"
    }
   },
   "cell_type": "code",
   "source": "y_rec_grouped.head()",
   "outputs": [
    {
     "data": {
      "text/plain": [
       "                  ds     AutoARIMA  AutoARIMA/BottomUp  \\\n",
       "unique_id                                                \n",
       "TX        2016-04-25  11427.172852        11322.434570   \n",
       "TX        2016-04-26  11014.785156        10842.564453   \n",
       "TX/TX_1   2016-04-25   3618.060059         3524.928711   \n",
       "TX/TX_1   2016-04-26   3298.079102         3250.630127   \n",
       "TX/TX_2   2016-04-25   4022.438232         4021.375488   \n",
       "\n",
       "           AutoARIMA/TopDown_method-forecast_proportions  \\\n",
       "unique_id                                                  \n",
       "TX                                          11427.172852   \n",
       "TX                                          11014.785156   \n",
       "TX/TX_1                                      3597.930908   \n",
       "TX/TX_1                                      3341.207031   \n",
       "TX/TX_2                                      4000.059326   \n",
       "\n",
       "           AutoARIMA/MinTrace_method-ols  \n",
       "unique_id                                 \n",
       "TX                          11438.992819  \n",
       "TX                          10974.527706  \n",
       "TX/TX_1                      3596.076178  \n",
       "TX/TX_1                      3327.373259  \n",
       "TX/TX_2                      4011.962888  "
      ],
      "text/html": [
       "<div>\n",
       "<style scoped>\n",
       "    .dataframe tbody tr th:only-of-type {\n",
       "        vertical-align: middle;\n",
       "    }\n",
       "\n",
       "    .dataframe tbody tr th {\n",
       "        vertical-align: top;\n",
       "    }\n",
       "\n",
       "    .dataframe thead th {\n",
       "        text-align: right;\n",
       "    }\n",
       "</style>\n",
       "<table border=\"1\" class=\"dataframe\">\n",
       "  <thead>\n",
       "    <tr style=\"text-align: right;\">\n",
       "      <th></th>\n",
       "      <th>ds</th>\n",
       "      <th>AutoARIMA</th>\n",
       "      <th>AutoARIMA/BottomUp</th>\n",
       "      <th>AutoARIMA/TopDown_method-forecast_proportions</th>\n",
       "      <th>AutoARIMA/MinTrace_method-ols</th>\n",
       "    </tr>\n",
       "    <tr>\n",
       "      <th>unique_id</th>\n",
       "      <th></th>\n",
       "      <th></th>\n",
       "      <th></th>\n",
       "      <th></th>\n",
       "      <th></th>\n",
       "    </tr>\n",
       "  </thead>\n",
       "  <tbody>\n",
       "    <tr>\n",
       "      <th>TX</th>\n",
       "      <td>2016-04-25</td>\n",
       "      <td>11427.172852</td>\n",
       "      <td>11322.434570</td>\n",
       "      <td>11427.172852</td>\n",
       "      <td>11438.992819</td>\n",
       "    </tr>\n",
       "    <tr>\n",
       "      <th>TX</th>\n",
       "      <td>2016-04-26</td>\n",
       "      <td>11014.785156</td>\n",
       "      <td>10842.564453</td>\n",
       "      <td>11014.785156</td>\n",
       "      <td>10974.527706</td>\n",
       "    </tr>\n",
       "    <tr>\n",
       "      <th>TX/TX_1</th>\n",
       "      <td>2016-04-25</td>\n",
       "      <td>3618.060059</td>\n",
       "      <td>3524.928711</td>\n",
       "      <td>3597.930908</td>\n",
       "      <td>3596.076178</td>\n",
       "    </tr>\n",
       "    <tr>\n",
       "      <th>TX/TX_1</th>\n",
       "      <td>2016-04-26</td>\n",
       "      <td>3298.079102</td>\n",
       "      <td>3250.630127</td>\n",
       "      <td>3341.207031</td>\n",
       "      <td>3327.373259</td>\n",
       "    </tr>\n",
       "    <tr>\n",
       "      <th>TX/TX_2</th>\n",
       "      <td>2016-04-25</td>\n",
       "      <td>4022.438232</td>\n",
       "      <td>4021.375488</td>\n",
       "      <td>4000.059326</td>\n",
       "      <td>4011.962888</td>\n",
       "    </tr>\n",
       "  </tbody>\n",
       "</table>\n",
       "</div>"
      ]
     },
     "execution_count": 28,
     "metadata": {},
     "output_type": "execute_result"
    }
   ],
   "execution_count": 28
  },
  {
   "attachments": {},
   "cell_type": "markdown",
   "metadata": {},
   "source": [
    "Plot the results for your raw model predictions against the hierarchical predictions. How closely do the direct, non-hierarchical forecasts agree/disagree? What about the hierarchical forecasts?\n",
    "\n",
    "Hint: the below plot shows a sample, but the answer to this question lies with `plot_hierarchical_predictions_gap()`. Check out some of the other plotting methods, too!"
   ]
  },
  {
   "cell_type": "code",
   "metadata": {
    "ExecuteTime": {
     "end_time": "2024-08-12T22:34:27.189239Z",
     "start_time": "2024-08-12T22:34:26.648640Z"
    }
   },
   "source": [
    "HierarchicalPlot(S_df, tags).plot_hierarchically_linked_series(\n",
    "    bottom_series='TX/TX_3/TX_3_HOUSEHOLD_2',\n",
    "    Y_df=val.merge(y_rec, on=['unique_id', 'ds']).set_index('unique_id'),\n",
    ")"
   ],
   "outputs": [
    {
     "data": {
      "text/plain": [
       "<Figure size 2000x600 with 3 Axes>"
      ],
      "image/png": "[encoded data removed]"
     },
     "metadata": {},
     "output_type": "display_data"
    }
   ],
   "execution_count": 29
  },
  {
   "attachments": {},
   "cell_type": "markdown",
   "metadata": {},
   "source": [
    "Use the helper code below to calculate RMSSE for every method you tried, at every level of the hierarchy. This code is borrowed and modified from the `hierarchicalforecast` library, because their implementation of `msse` is different than our version. This formulation of RMSSE should line up with the formulation from Project 2."
   ]
  },
  {
   "cell_type": "code",
   "metadata": {
    "ExecuteTime": {
     "end_time": "2024-08-12T22:46:06.621132Z",
     "start_time": "2024-08-12T22:46:06.613097Z"
    }
   },
   "source": [
    "from hierarchicalforecast.evaluation import HierarchicalEvaluation\n",
    "\n",
    "def mse(y, y_hat, weights=None, axis=None):\n",
    "    delta_y = np.square(y - y_hat)\n",
    "    if weights is not None:\n",
    "        mse = np.average(delta_y,\n",
    "                         weights=weights,\n",
    "                         axis=axis)\n",
    "    else:\n",
    "        mse = np.nanmean(delta_y, axis=axis)\n",
    "    return mse\n",
    "\n",
    "def rmsse(y, y_hat, y_insample, mask=None, insample_mask=None):\n",
    "    if mask is None: \n",
    "       mask = np.ones_like(y)\n",
    "       \n",
    "    eps = np.finfo(float).eps\n",
    "\n",
    "    norm = mse(y=y_insample[:, 1:], y_hat=y_insample[:, :-1], weights=insample_mask, axis=1)\n",
    "    loss = mse(y=y, y_hat=y_hat, weights=mask, axis=1)\n",
    "\n",
    "    loss = np.sqrt(loss / (norm + eps))\n",
    "    return loss.mean()"
   ],
   "outputs": [],
   "execution_count": 16
  },
  {
   "metadata": {
    "ExecuteTime": {
     "end_time": "2024-08-12T22:35:57.630150Z",
     "start_time": "2024-08-12T22:35:57.538849Z"
    }
   },
   "cell_type": "code",
   "source": [
    "val.set_index('unique_id', inplace=True)\n",
    "train.set_index('unique_id', inplace=True)\n",
    "\n",
    "evaluation = HierarchicalEvaluation([rmsse]).evaluate(\n",
    "    Y_hat_df=y_rec,     # your reconciled forecasts\n",
    "    Y_test_df=val,      # validation actuals DF, with unique_id as index\n",
    "    tags=tags,          # tags from aggregate()\n",
    "    Y_df=train          # training actuals DF, with unique_id as index\n",
    ")"
   ],
   "outputs": [],
   "execution_count": 37
  },
  {
   "metadata": {
    "ExecuteTime": {
     "end_time": "2024-08-12T22:36:38.009232Z",
     "start_time": "2024-08-12T22:36:37.990941Z"
    }
   },
   "cell_type": "code",
   "source": "evaluation.head()",
   "outputs": [
    {
     "data": {
      "text/plain": [
       "                                       AutoARIMA AutoARIMA/BottomUp  \\\n",
       "level                           metric                                \n",
       "Overall                         rmsse   0.947331           0.945175   \n",
       "state_id                        rmsse    0.92688           0.914508   \n",
       "state_id/store_id               rmsse   0.924337           0.910499   \n",
       "state_id/store_id/store_dept_id rmsse   0.951589           0.951589   \n",
       "\n",
       "                                       AutoARIMA/TopDown_method-forecast_proportions  \\\n",
       "level                           metric                                                 \n",
       "Overall                         rmsse                                       0.957157   \n",
       "state_id                        rmsse                                        0.92688   \n",
       "state_id/store_id               rmsse                                       0.931934   \n",
       "state_id/store_id/store_dept_id rmsse                                       0.962202   \n",
       "\n",
       "                                       AutoARIMA/MinTrace_method-ols  \n",
       "level                           metric                                \n",
       "Overall                         rmsse                       0.953764  \n",
       "state_id                        rmsse                       0.923748  \n",
       "state_id/store_id               rmsse                       0.927761  \n",
       "state_id/store_id/store_dept_id rmsse                       0.958908  "
      ],
      "text/html": [
       "<div>\n",
       "<style scoped>\n",
       "    .dataframe tbody tr th:only-of-type {\n",
       "        vertical-align: middle;\n",
       "    }\n",
       "\n",
       "    .dataframe tbody tr th {\n",
       "        vertical-align: top;\n",
       "    }\n",
       "\n",
       "    .dataframe thead th {\n",
       "        text-align: right;\n",
       "    }\n",
       "</style>\n",
       "<table border=\"1\" class=\"dataframe\">\n",
       "  <thead>\n",
       "    <tr style=\"text-align: right;\">\n",
       "      <th></th>\n",
       "      <th></th>\n",
       "      <th>AutoARIMA</th>\n",
       "      <th>AutoARIMA/BottomUp</th>\n",
       "      <th>AutoARIMA/TopDown_method-forecast_proportions</th>\n",
       "      <th>AutoARIMA/MinTrace_method-ols</th>\n",
       "    </tr>\n",
       "    <tr>\n",
       "      <th>level</th>\n",
       "      <th>metric</th>\n",
       "      <th></th>\n",
       "      <th></th>\n",
       "      <th></th>\n",
       "      <th></th>\n",
       "    </tr>\n",
       "  </thead>\n",
       "  <tbody>\n",
       "    <tr>\n",
       "      <th>Overall</th>\n",
       "      <th>rmsse</th>\n",
       "      <td>0.947331</td>\n",
       "      <td>0.945175</td>\n",
       "      <td>0.957157</td>\n",
       "      <td>0.953764</td>\n",
       "    </tr>\n",
       "    <tr>\n",
       "      <th>state_id</th>\n",
       "      <th>rmsse</th>\n",
       "      <td>0.92688</td>\n",
       "      <td>0.914508</td>\n",
       "      <td>0.92688</td>\n",
       "      <td>0.923748</td>\n",
       "    </tr>\n",
       "    <tr>\n",
       "      <th>state_id/store_id</th>\n",
       "      <th>rmsse</th>\n",
       "      <td>0.924337</td>\n",
       "      <td>0.910499</td>\n",
       "      <td>0.931934</td>\n",
       "      <td>0.927761</td>\n",
       "    </tr>\n",
       "    <tr>\n",
       "      <th>state_id/store_id/store_dept_id</th>\n",
       "      <th>rmsse</th>\n",
       "      <td>0.951589</td>\n",
       "      <td>0.951589</td>\n",
       "      <td>0.962202</td>\n",
       "      <td>0.958908</td>\n",
       "    </tr>\n",
       "  </tbody>\n",
       "</table>\n",
       "</div>"
      ]
     },
     "execution_count": 39,
     "metadata": {},
     "output_type": "execute_result"
    }
   ],
   "execution_count": 39
  },
  {
   "attachments": {},
   "cell_type": "markdown",
   "metadata": {},
   "source": [
    "Answer the following questions:\n",
    "\n",
    "- What's more accurate, the direct forecast, or the hierarchical methods?\n",
    "- What's the most accurate method for top-level aggregation (i.e. the `state_id` level)?\n",
    "- What's the most accurate method for bottom-level aggregation (i.e. the `state_id`/`store_id`/`store_dept_id` level)?"
   ]
  },
  {
   "attachments": {},
   "cell_type": "markdown",
   "metadata": {},
   "source": [
    "## Ensembling"
   ]
  },
  {
   "attachments": {},
   "cell_type": "markdown",
   "metadata": {},
   "source": [
    "Now, let's try to ensemble predictions from multiple models.\n",
    "\n",
    "Below, fit two models -- one `mlforecast` model (could be the same one you used in Project 2), and one `statsforecast` model. You can fit the models at any level you want (just make sure both are fit at the same level), but I'd recommend trying out `item_id`. It's a little faster than at the `id` level, and it gives both models a good opportunity to show their diversity.\n",
    "\n",
    "Once you've fit both models, be sure to plot some sample predictions.\n",
    "\n",
    "Don't worry about tuning the performance much here. This is more about seeing ensembling in action than optimizing your individual models!\n",
    "\n",
    "[Optional, if you have extra time] You can also fit a `neuralforecast` model."
   ]
  },
  {
   "cell_type": "code",
   "metadata": {
    "ExecuteTime": {
     "end_time": "2024-08-12T22:44:00.651821Z",
     "start_time": "2024-08-12T22:43:49.569790Z"
    }
   },
   "source": [
    "# read in a fresh copy of the data\n",
    "data = (\n",
    "    pd.read_parquet('data/project_3_data/sales_data.parquet')\n",
    "    .reset_index()\n",
    "    .groupby(['date', 'item_id', 'dept_id', 'cat_id'])\n",
    "    .sales\n",
    "    .sum()\n",
    "    .reset_index()\n",
    "    .assign(unique_id=lambda df: df.item_id.copy())\n",
    "    .rename(columns={'date': 'ds', 'sales': 'y'})\n",
    "    .drop(columns=['item_id', 'dept_id', 'cat_id'])\n",
    ")"
   ],
   "outputs": [],
   "execution_count": 3
  },
  {
   "metadata": {
    "ExecuteTime": {
     "end_time": "2024-08-12T22:44:00.686308Z",
     "start_time": "2024-08-12T22:44:00.678317Z"
    }
   },
   "cell_type": "code",
   "source": "data.info()",
   "outputs": [
    {
     "name": "stdout",
     "output_type": "stream",
     "text": [
      "<class 'pandas.core.frame.DataFrame'>\n",
      "RangeIndex: 3774662 entries, 0 to 3774661\n",
      "Data columns (total 3 columns):\n",
      " #   Column     Dtype         \n",
      "---  ------     -----         \n",
      " 0   ds         datetime64[us]\n",
      " 1   y          int64         \n",
      " 2   unique_id  object        \n",
      "dtypes: datetime64[us](1), int64(1), object(1)\n",
      "memory usage: 86.4+ MB\n"
     ]
    }
   ],
   "execution_count": 4
  },
  {
   "metadata": {
    "ExecuteTime": {
     "end_time": "2024-08-12T22:44:01.647781Z",
     "start_time": "2024-08-12T22:44:00.744058Z"
    }
   },
   "cell_type": "code",
   "source": [
    "val = (data\n",
    "       .groupby('unique_id')\n",
    "       .tail(28)\n",
    "      #  .drop(columns=['item_id', 'dept_id', 'cat_id'])\n",
    "      #  .sort_values(by='ds', ascending=True)\n",
    "\n",
    ")\n",
    "train = (data\n",
    "         .drop(val.index)\n",
    "        #  .drop(columns=['item_id', 'dept_id', 'cat_id'])\n",
    "        #  .sort_values(by='ds', ascending=True)\n",
    "\n",
    ")"
   ],
   "outputs": [],
   "execution_count": 5
  },
  {
   "cell_type": "code",
   "metadata": {
    "ExecuteTime": {
     "end_time": "2024-08-12T22:44:04.230716Z",
     "start_time": "2024-08-12T22:44:01.663987Z"
    }
   },
   "source": [
    "# fit an mlforecast model\n",
    "\n",
    "import lightgbm as lgb\n",
    "from mlforecast import MLForecast\n",
    "from sklearn.linear_model import LinearRegression\n",
    "\n",
    "fcst = MLForecast(\n",
    "    models = [LinearRegression()],\n",
    "    lags=[1],\n",
    "    freq = 'D'\n",
    ")\n",
    "fcst.fit(train)\n",
    "preds_ml = fcst.predict(28)"
   ],
   "outputs": [],
   "execution_count": 6
  },
  {
   "metadata": {
    "ExecuteTime": {
     "end_time": "2024-08-12T22:44:04.263147Z",
     "start_time": "2024-08-12T22:44:04.248376Z"
    }
   },
   "cell_type": "code",
   "source": "preds_ml",
   "outputs": [
    {
     "data": {
      "text/plain": [
       "             unique_id         ds  LinearRegression\n",
       "0          FOODS_1_001 2016-04-25          0.418083\n",
       "1          FOODS_1_001 2016-04-26          0.785014\n",
       "2          FOODS_1_001 2016-04-27          1.107050\n",
       "3          FOODS_1_001 2016-04-28          1.389686\n",
       "4          FOODS_1_001 2016-04-29          1.637741\n",
       "...                ...        ...               ...\n",
       "85367  HOUSEHOLD_2_516 2016-05-18          3.268048\n",
       "85368  HOUSEHOLD_2_516 2016-05-19          3.286286\n",
       "85369  HOUSEHOLD_2_516 2016-05-20          3.302292\n",
       "85370  HOUSEHOLD_2_516 2016-05-21          3.316340\n",
       "85371  HOUSEHOLD_2_516 2016-05-22          3.328670\n",
       "\n",
       "[85372 rows x 3 columns]"
      ],
      "text/html": [
       "<div>\n",
       "<style scoped>\n",
       "    .dataframe tbody tr th:only-of-type {\n",
       "        vertical-align: middle;\n",
       "    }\n",
       "\n",
       "    .dataframe tbody tr th {\n",
       "        vertical-align: top;\n",
       "    }\n",
       "\n",
       "    .dataframe thead th {\n",
       "        text-align: right;\n",
       "    }\n",
       "</style>\n",
       "<table border=\"1\" class=\"dataframe\">\n",
       "  <thead>\n",
       "    <tr style=\"text-align: right;\">\n",
       "      <th></th>\n",
       "      <th>unique_id</th>\n",
       "      <th>ds</th>\n",
       "      <th>LinearRegression</th>\n",
       "    </tr>\n",
       "  </thead>\n",
       "  <tbody>\n",
       "    <tr>\n",
       "      <th>0</th>\n",
       "      <td>FOODS_1_001</td>\n",
       "      <td>2016-04-25</td>\n",
       "      <td>0.418083</td>\n",
       "    </tr>\n",
       "    <tr>\n",
       "      <th>1</th>\n",
       "      <td>FOODS_1_001</td>\n",
       "      <td>2016-04-26</td>\n",
       "      <td>0.785014</td>\n",
       "    </tr>\n",
       "    <tr>\n",
       "      <th>2</th>\n",
       "      <td>FOODS_1_001</td>\n",
       "      <td>2016-04-27</td>\n",
       "      <td>1.107050</td>\n",
       "    </tr>\n",
       "    <tr>\n",
       "      <th>3</th>\n",
       "      <td>FOODS_1_001</td>\n",
       "      <td>2016-04-28</td>\n",
       "      <td>1.389686</td>\n",
       "    </tr>\n",
       "    <tr>\n",
       "      <th>4</th>\n",
       "      <td>FOODS_1_001</td>\n",
       "      <td>2016-04-29</td>\n",
       "      <td>1.637741</td>\n",
       "    </tr>\n",
       "    <tr>\n",
       "      <th>...</th>\n",
       "      <td>...</td>\n",
       "      <td>...</td>\n",
       "      <td>...</td>\n",
       "    </tr>\n",
       "    <tr>\n",
       "      <th>85367</th>\n",
       "      <td>HOUSEHOLD_2_516</td>\n",
       "      <td>2016-05-18</td>\n",
       "      <td>3.268048</td>\n",
       "    </tr>\n",
       "    <tr>\n",
       "      <th>85368</th>\n",
       "      <td>HOUSEHOLD_2_516</td>\n",
       "      <td>2016-05-19</td>\n",
       "      <td>3.286286</td>\n",
       "    </tr>\n",
       "    <tr>\n",
       "      <th>85369</th>\n",
       "      <td>HOUSEHOLD_2_516</td>\n",
       "      <td>2016-05-20</td>\n",
       "      <td>3.302292</td>\n",
       "    </tr>\n",
       "    <tr>\n",
       "      <th>85370</th>\n",
       "      <td>HOUSEHOLD_2_516</td>\n",
       "      <td>2016-05-21</td>\n",
       "      <td>3.316340</td>\n",
       "    </tr>\n",
       "    <tr>\n",
       "      <th>85371</th>\n",
       "      <td>HOUSEHOLD_2_516</td>\n",
       "      <td>2016-05-22</td>\n",
       "      <td>3.328670</td>\n",
       "    </tr>\n",
       "  </tbody>\n",
       "</table>\n",
       "<p>85372 rows × 3 columns</p>\n",
       "</div>"
      ]
     },
     "execution_count": 7,
     "metadata": {},
     "output_type": "execute_result"
    }
   ],
   "execution_count": 7
  },
  {
   "attachments": {},
   "cell_type": "markdown",
   "metadata": {},
   "source": [
    "Before starting to ensemble, let's check the RMSSE of our individual models. Our modified version of RMSSE takes predictions in a rectangular shape, with each row being one `unique_id` and each column being one of the 28 predictions for the validation set. That results in an array of shape `[n_unique_ids, 28]`. We need to do the same thing for the training data (`y_insample` here) to create the scale (the denominator). Finally, we create a mask to tell the RMSSE function not to calculate the scale value before each `unique_id` has its first sale, since we don't calculate the loss over those periods.\n",
    "\n",
    "This code assumes you stored your `mlforecast` predictions in `preds_ml` and your `statsforecast` predictions in `preds_sf`.\n",
    "\n",
    "Modify it to suit your needs!"
   ]
  },
  {
   "metadata": {
    "ExecuteTime": {
     "end_time": "2024-08-12T22:44:47.194400Z",
     "start_time": "2024-08-12T22:44:46.378042Z"
    }
   },
   "cell_type": "code",
   "source": [
    "from statsforecast.core import StatsForecast\n",
    "from statsforecast.models import AutoETS\n",
    "fcst = StatsForecast(models=[AutoETS()], freq='D', df=train)\n",
    "\n",
    "# preds_sf = fcst.forecast(h=28).reset_index()\n",
    "\n",
    "preds_sf = pd.read_parquet('data/project_3_preds_sf_ets.parquet')"
   ],
   "outputs": [
    {
     "name": "stderr",
     "output_type": "stream",
     "text": [
      "/home/chris/PycharmProjects/ml_forcasting/venv/lib/python3.11/site-packages/statsforecast/core.py:474: FutureWarning: The `df` argument of the StatsForecast constructor as well as reusing stored dfs from other methods is deprecated and will raise an error in a future version. Please provide the `df` argument to the corresponding method instead, e.g. fit/forecast.\n",
      "  warnings.warn(\n"
     ]
    }
   ],
   "execution_count": 10
  },
  {
   "metadata": {
    "ExecuteTime": {
     "end_time": "2024-08-12T22:44:48.645615Z",
     "start_time": "2024-08-12T22:44:48.635766Z"
    }
   },
   "cell_type": "code",
   "source": "preds_sf",
   "outputs": [
    {
     "data": {
      "text/plain": [
       "             unique_id         ds   AutoETS\n",
       "0          FOODS_1_001 2016-04-25  1.030512\n",
       "1          FOODS_1_001 2016-04-26  0.986365\n",
       "2          FOODS_1_001 2016-04-27  1.190499\n",
       "3          FOODS_1_001 2016-04-28  1.211763\n",
       "4          FOODS_1_001 2016-04-29  1.445122\n",
       "...                ...        ...       ...\n",
       "85367  HOUSEHOLD_2_516 2016-05-18  0.486978\n",
       "85368  HOUSEHOLD_2_516 2016-05-19  0.522174\n",
       "85369  HOUSEHOLD_2_516 2016-05-20  0.592548\n",
       "85370  HOUSEHOLD_2_516 2016-05-21  0.817357\n",
       "85371  HOUSEHOLD_2_516 2016-05-22  0.671975\n",
       "\n",
       "[85372 rows x 3 columns]"
      ],
      "text/html": [
       "<div>\n",
       "<style scoped>\n",
       "    .dataframe tbody tr th:only-of-type {\n",
       "        vertical-align: middle;\n",
       "    }\n",
       "\n",
       "    .dataframe tbody tr th {\n",
       "        vertical-align: top;\n",
       "    }\n",
       "\n",
       "    .dataframe thead th {\n",
       "        text-align: right;\n",
       "    }\n",
       "</style>\n",
       "<table border=\"1\" class=\"dataframe\">\n",
       "  <thead>\n",
       "    <tr style=\"text-align: right;\">\n",
       "      <th></th>\n",
       "      <th>unique_id</th>\n",
       "      <th>ds</th>\n",
       "      <th>AutoETS</th>\n",
       "    </tr>\n",
       "  </thead>\n",
       "  <tbody>\n",
       "    <tr>\n",
       "      <th>0</th>\n",
       "      <td>FOODS_1_001</td>\n",
       "      <td>2016-04-25</td>\n",
       "      <td>1.030512</td>\n",
       "    </tr>\n",
       "    <tr>\n",
       "      <th>1</th>\n",
       "      <td>FOODS_1_001</td>\n",
       "      <td>2016-04-26</td>\n",
       "      <td>0.986365</td>\n",
       "    </tr>\n",
       "    <tr>\n",
       "      <th>2</th>\n",
       "      <td>FOODS_1_001</td>\n",
       "      <td>2016-04-27</td>\n",
       "      <td>1.190499</td>\n",
       "    </tr>\n",
       "    <tr>\n",
       "      <th>3</th>\n",
       "      <td>FOODS_1_001</td>\n",
       "      <td>2016-04-28</td>\n",
       "      <td>1.211763</td>\n",
       "    </tr>\n",
       "    <tr>\n",
       "      <th>4</th>\n",
       "      <td>FOODS_1_001</td>\n",
       "      <td>2016-04-29</td>\n",
       "      <td>1.445122</td>\n",
       "    </tr>\n",
       "    <tr>\n",
       "      <th>...</th>\n",
       "      <td>...</td>\n",
       "      <td>...</td>\n",
       "      <td>...</td>\n",
       "    </tr>\n",
       "    <tr>\n",
       "      <th>85367</th>\n",
       "      <td>HOUSEHOLD_2_516</td>\n",
       "      <td>2016-05-18</td>\n",
       "      <td>0.486978</td>\n",
       "    </tr>\n",
       "    <tr>\n",
       "      <th>85368</th>\n",
       "      <td>HOUSEHOLD_2_516</td>\n",
       "      <td>2016-05-19</td>\n",
       "      <td>0.522174</td>\n",
       "    </tr>\n",
       "    <tr>\n",
       "      <th>85369</th>\n",
       "      <td>HOUSEHOLD_2_516</td>\n",
       "      <td>2016-05-20</td>\n",
       "      <td>0.592548</td>\n",
       "    </tr>\n",
       "    <tr>\n",
       "      <th>85370</th>\n",
       "      <td>HOUSEHOLD_2_516</td>\n",
       "      <td>2016-05-21</td>\n",
       "      <td>0.817357</td>\n",
       "    </tr>\n",
       "    <tr>\n",
       "      <th>85371</th>\n",
       "      <td>HOUSEHOLD_2_516</td>\n",
       "      <td>2016-05-22</td>\n",
       "      <td>0.671975</td>\n",
       "    </tr>\n",
       "  </tbody>\n",
       "</table>\n",
       "<p>85372 rows × 3 columns</p>\n",
       "</div>"
      ]
     },
     "execution_count": 11,
     "metadata": {},
     "output_type": "execute_result"
    }
   ],
   "execution_count": 11
  },
  {
   "cell_type": "code",
   "metadata": {
    "ExecuteTime": {
     "end_time": "2024-08-12T22:45:59.253300Z",
     "start_time": "2024-08-12T22:45:58.694784Z"
    }
   },
   "source": [
    "y = val.sort_values(['unique_id', 'ds']).y.values.reshape(-1, 28)\n",
    "# y_hat_ml = preds_ml.sort_values(['unique_id', 'ds']).LGBMRegressor.values.reshape(-1, 28)\n",
    "y_hat_ml = preds_ml.sort_values(['unique_id', 'ds']).LinearRegression.values.reshape(-1, 28)\n",
    "y_hat_sf = preds_sf.sort_values(['unique_id', 'ds']).AutoETS.values.reshape(-1, 28)\n",
    "y_insample = train.sort_values(['unique_id', 'ds']).y.values.reshape(-1, 1210)\n",
    "insample_mask = (y_insample.cumsum(axis=1) > 0).astype(int)[:, 1:]"
   ],
   "outputs": [],
   "execution_count": 14
  },
  {
   "cell_type": "code",
   "metadata": {
    "ExecuteTime": {
     "end_time": "2024-08-12T22:46:14.001005Z",
     "start_time": "2024-08-12T22:46:13.901843Z"
    }
   },
   "source": [
    "print(f'LightGBM Tweedie RMSSE: {rmsse(y, y_hat_ml, y_insample, insample_mask=insample_mask)}')\n",
    "print(f'AutoETS RMSSE: {rmsse(y, y_hat_sf, y_insample, insample_mask=insample_mask)}')"
   ],
   "outputs": [
    {
     "name": "stdout",
     "output_type": "stream",
     "text": [
      "LightGBM Tweedie RMSSE: 1.4312739931186886\n",
      "AutoETS RMSSE: 0.7815112561058867\n"
     ]
    }
   ],
   "execution_count": 17
  },
  {
   "attachments": {},
   "cell_type": "markdown",
   "metadata": {},
   "source": [
    "Create `y_hat`, which is a NumPy array of all of your model's predictions combined along a new axis. `y_hat` should be of shape `[n_models, n_unique_ids, 28]`. So, if you only fit one `mlforecast` model and one `statsforecast` model, it'd be of shape `[2, n_unique_ids, 28]`.\n",
    "\n",
    "The reason we're doing this is because we're going to have a single weight for each model, and that weight will be between 0 and 1. So, that means we can take a weighted average across the first dimension using those weights to calculate our ensemble. But, that after this!"
   ]
  },
  {
   "attachments": {},
   "cell_type": "markdown",
   "metadata": {
    "tags": []
   },
   "source": [
    "Hint: try running the following code:\n",
    "\n",
    "```\n",
    "arr = np.array([\n",
    "    [0, 1, 2],\n",
    "    [3, 4, 5],\n",
    "    [6, 7, 8],\n",
    "    [9, 0, 1],\n",
    "])\n",
    "print(arr.shape)\n",
    "print(arr[None, :].shape)\n",
    "```"
   ]
  },
  {
   "cell_type": "code",
   "metadata": {
    "ExecuteTime": {
     "end_time": "2024-08-12T22:46:52.668032Z",
     "start_time": "2024-08-12T22:46:52.664059Z"
    }
   },
   "source": "y_hat = np.array([y_hat_ml, y_hat_sf])",
   "outputs": [],
   "execution_count": 19
  },
  {
   "attachments": {},
   "cell_type": "markdown",
   "metadata": {},
   "source": [
    "Calculate `y_hat_avg` in `ensemble_metric`. `y_hat_avg` is a weighted average of `y_hat` along the first dimension, and is weighted according to `weights`, which is a list of floats of length `n_models`. There are some tests in there to help you out!\n",
    "\n",
    "Here's what you have to do:\n",
    "\n",
    "1. Finish the definition for `init_guess`, which should be a list with length equal to the number of models you trained. Initialize it such that the weights for each model are between 0 and 1 and are equal for every model.\n",
    "2. Run the code and make note of the RMSSE value. This is the RMSSE for a simple average of your predictions."
   ]
  },
  {
   "cell_type": "code",
   "metadata": {
    "ExecuteTime": {
     "end_time": "2024-08-12T22:47:41.366377Z",
     "start_time": "2024-08-12T22:47:41.326609Z"
    }
   },
   "source": [
    "from functools import partial\n",
    "\n",
    "def ensemble_metric(weights, y, y_hat, y_insample, insample_mask):\n",
    "    y_hat_avg = np.average(y_hat, axis=0, weights=weights)\n",
    "    assert y_hat_avg.ndim == 2, 'y_hat_avg has {y_hat_avg.ndim} dimensions, but it must be 2D. Did you calculate a weighted average over the first dimension?'\n",
    "    assert y_hat_avg.shape == y.shape, 'y_hat_avg and y must have the same shape. y_hat_avg has shape {y_hat_avg.shape}, but y has shape {y.shape}'\n",
    "    return rmsse(y, y_hat_avg, y_insample, insample_mask=insample_mask)\n",
    "\n",
    "ensemble_metric = partial(ensemble_metric, y=y, y_hat=y_hat, y_insample=y_insample, insample_mask=insample_mask)\n",
    "\n",
    "# Our first guess is setting all weights equal to each other, such that they sum up to 1\n",
    "n_models = 2  # replace with the actual number of models you've trained\n",
    "\n",
    "# Initialize weights equally for each model\n",
    "init_guess = [1 / n_models] * n_models\n",
    "print(f'Inital Blend RMSSE: {ensemble_metric(init_guess):.6f}')"
   ],
   "outputs": [
    {
     "name": "stdout",
     "output_type": "stream",
     "text": [
      "Inital Blend RMSSE: 0.999240\n"
     ]
    }
   ],
   "execution_count": 21
  },
  {
   "attachments": {},
   "cell_type": "markdown",
   "metadata": {},
   "source": [
    "On line 16, replace `oof_names` with a list of the names of your models in the order that you added them to `y_hat`."
   ]
  },
  {
   "cell_type": "code",
   "metadata": {
    "ExecuteTime": {
     "end_time": "2024-08-12T22:48:05.261917Z",
     "start_time": "2024-08-12T22:48:02.085285Z"
    }
   },
   "source": [
    "from scipy.optimize import minimize\n",
    "\n",
    "bnds = [(0, 1) for _ in range(y_hat.shape[0])] # Weights must be between 0 and 1\n",
    "\n",
    "res_scipy = minimize(\n",
    "    fun=ensemble_metric,\n",
    "    x0=init_guess,\n",
    "    method='Powell',\n",
    "    bounds=bnds,\n",
    "    options=dict(maxiter=1_000_000),\n",
    "    tol=1e-8\n",
    ")\n",
    "\n",
    "print(f'Optimised Blend RMSSE: {res_scipy.fun:.6f}')\n",
    "print(f'Optimised Weights: {res_scipy.x}')\n",
    "print('-' * 70)\n",
    "\n",
    "oof_names = ['LinearRegression', 'AutoETS']\n",
    "for n, key in enumerate(oof_names):\n",
    "    print(f'{key} Optimised Weights: {res_scipy.x[n]:.6f}')\n",
    "\n",
    "ws = [ res_scipy.x[i] for i in range(len(oof_names))]\n",
    "\n",
    "# normalize the weights so they sum to 1\n",
    "weights = ws / np.sum(ws)\n",
    "print(f'Normalized weights:')\n",
    "print(weights)"
   ],
   "outputs": [
    {
     "name": "stdout",
     "output_type": "stream",
     "text": [
      "Optimised Blend RMSSE: 0.781097\n",
      "Optimised Weights: [0.0088975  0.50000008]\n",
      "----------------------------------------------------------------------\n",
      "LinearRegression Optimised Weights: 0.008897\n",
      "AutoETS Optimised Weights: 0.500000\n",
      "Normalized weights:\n",
      "[0.01748387 0.98251613]\n"
     ]
    }
   ],
   "execution_count": 22
  },
  {
   "attachments": {},
   "cell_type": "markdown",
   "metadata": {},
   "source": [
    "Finally, answer the following questions:\n",
    "\n",
    "1. How did the accuracy of your single model compare to the accuracy of the optimized ensemble?\n",
    "2. How did the simple average ensemble compare to the optimized ensemble?\n",
    "3. Does it make sense how the models were weighted? Did the most accurate model get the largest weight?\n",
    "4. How might you combine hierarchical forecasting with ensembling?"
   ]
  },
  {
   "cell_type": "markdown",
   "metadata": {},
   "source": []
  }
 ],
 "metadata": {
  "kernelspec": {
   "display_name": "kaggle",
   "language": "python",
   "name": "python3"
  },
  "language_info": {
   "codemirror_mode": {
    "name": "ipython",
    "version": 3
   },
   "file_extension": ".py",
   "mimetype": "text/x-python",
   "name": "python",
   "nbconvert_exporter": "python",
   "pygments_lexer": "ipython3",
   "version": "3.9.13"
  },
  "orig_nbformat": 4,
  "vscode": {
   "interpreter": {
    "hash": "5768b04258121350f986a32a10c2b5b63ea833426012d4b5b8a887aeeef377c3"
   }
  }
 },
 "nbformat": 4,
 "nbformat_minor": 2
}
