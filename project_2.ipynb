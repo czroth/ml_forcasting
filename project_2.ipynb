{
 "cells": [
  {
   "attachments": {},
   "cell_type": "markdown",
   "metadata": {},
   "source": [
    "# Project 2\n",
    "\n",
    "We're going to continue from where we left off with Project 1. Project 1 left us with a daily time series for every product with no gaps -- exactly what we want for modeling!"
   ]
  },
  {
   "cell_type": "code",
   "metadata": {
    "ExecuteTime": {
     "end_time": "2024-08-07T06:08:21.079258Z",
     "start_time": "2024-08-07T06:08:21.076249Z"
    }
   },
   "source": "data_path = 'data'",
   "outputs": [],
   "execution_count": 1
  },
  {
   "cell_type": "code",
   "metadata": {
    "ExecuteTime": {
     "end_time": "2024-08-07T06:08:21.511374Z",
     "start_time": "2024-08-07T06:08:21.080865Z"
    }
   },
   "source": [
    "import pandas as pd\n",
    "import numpy as np"
   ],
   "outputs": [],
   "execution_count": 2
  },
  {
   "cell_type": "code",
   "metadata": {
    "ExecuteTime": {
     "end_time": "2024-08-07T06:08:26.724865Z",
     "start_time": "2024-08-07T06:08:21.512454Z"
    }
   },
   "source": [
    "data = pd.read_parquet(f'{data_path}/sales_data.parquet')\n",
    "data[\"item_id\"] = data[\"item_id\"].astype(\"category\")\n",
    "data[\"dept_id\"] = data[\"dept_id\"].astype(\"category\")\n",
    "data[\"cat_id\"] = data[\"cat_id\"].astype(\"category\")\n",
    "data[\"store_id\"] = data[\"store_id\"].astype(\"category\")\n",
    "data[\"state_id\"] = data[\"state_id\"].astype(\"category\")\n",
    "data.head()"
   ],
   "outputs": [
    {
     "data": {
      "text/plain": [
       "                                            item_id  dept_id cat_id store_id  \\\n",
       "date       id                                                                  \n",
       "2013-01-01 FOODS_1_004_TX_1_evaluation  FOODS_1_004  FOODS_1  FOODS     TX_1   \n",
       "           FOODS_1_004_TX_2_evaluation  FOODS_1_004  FOODS_1  FOODS     TX_2   \n",
       "           FOODS_1_004_TX_3_evaluation  FOODS_1_004  FOODS_1  FOODS     TX_3   \n",
       "           FOODS_1_005_TX_2_evaluation  FOODS_1_005  FOODS_1  FOODS     TX_2   \n",
       "           FOODS_1_009_TX_2_evaluation  FOODS_1_009  FOODS_1  FOODS     TX_2   \n",
       "\n",
       "                                       state_id  sales  \n",
       "date       id                                           \n",
       "2013-01-01 FOODS_1_004_TX_1_evaluation       TX     20  \n",
       "           FOODS_1_004_TX_2_evaluation       TX     20  \n",
       "           FOODS_1_004_TX_3_evaluation       TX      4  \n",
       "           FOODS_1_005_TX_2_evaluation       TX      1  \n",
       "           FOODS_1_009_TX_2_evaluation       TX      3  "
      ],
      "text/html": [
       "<div>\n",
       "<style scoped>\n",
       "    .dataframe tbody tr th:only-of-type {\n",
       "        vertical-align: middle;\n",
       "    }\n",
       "\n",
       "    .dataframe tbody tr th {\n",
       "        vertical-align: top;\n",
       "    }\n",
       "\n",
       "    .dataframe thead th {\n",
       "        text-align: right;\n",
       "    }\n",
       "</style>\n",
       "<table border=\"1\" class=\"dataframe\">\n",
       "  <thead>\n",
       "    <tr style=\"text-align: right;\">\n",
       "      <th></th>\n",
       "      <th></th>\n",
       "      <th>item_id</th>\n",
       "      <th>dept_id</th>\n",
       "      <th>cat_id</th>\n",
       "      <th>store_id</th>\n",
       "      <th>state_id</th>\n",
       "      <th>sales</th>\n",
       "    </tr>\n",
       "    <tr>\n",
       "      <th>date</th>\n",
       "      <th>id</th>\n",
       "      <th></th>\n",
       "      <th></th>\n",
       "      <th></th>\n",
       "      <th></th>\n",
       "      <th></th>\n",
       "      <th></th>\n",
       "    </tr>\n",
       "  </thead>\n",
       "  <tbody>\n",
       "    <tr>\n",
       "      <th rowspan=\"5\" valign=\"top\">2013-01-01</th>\n",
       "      <th>FOODS_1_004_TX_1_evaluation</th>\n",
       "      <td>FOODS_1_004</td>\n",
       "      <td>FOODS_1</td>\n",
       "      <td>FOODS</td>\n",
       "      <td>TX_1</td>\n",
       "      <td>TX</td>\n",
       "      <td>20</td>\n",
       "    </tr>\n",
       "    <tr>\n",
       "      <th>FOODS_1_004_TX_2_evaluation</th>\n",
       "      <td>FOODS_1_004</td>\n",
       "      <td>FOODS_1</td>\n",
       "      <td>FOODS</td>\n",
       "      <td>TX_2</td>\n",
       "      <td>TX</td>\n",
       "      <td>20</td>\n",
       "    </tr>\n",
       "    <tr>\n",
       "      <th>FOODS_1_004_TX_3_evaluation</th>\n",
       "      <td>FOODS_1_004</td>\n",
       "      <td>FOODS_1</td>\n",
       "      <td>FOODS</td>\n",
       "      <td>TX_3</td>\n",
       "      <td>TX</td>\n",
       "      <td>4</td>\n",
       "    </tr>\n",
       "    <tr>\n",
       "      <th>FOODS_1_005_TX_2_evaluation</th>\n",
       "      <td>FOODS_1_005</td>\n",
       "      <td>FOODS_1</td>\n",
       "      <td>FOODS</td>\n",
       "      <td>TX_2</td>\n",
       "      <td>TX</td>\n",
       "      <td>1</td>\n",
       "    </tr>\n",
       "    <tr>\n",
       "      <th>FOODS_1_009_TX_2_evaluation</th>\n",
       "      <td>FOODS_1_009</td>\n",
       "      <td>FOODS_1</td>\n",
       "      <td>FOODS</td>\n",
       "      <td>TX_2</td>\n",
       "      <td>TX</td>\n",
       "      <td>3</td>\n",
       "    </tr>\n",
       "  </tbody>\n",
       "</table>\n",
       "</div>"
      ]
     },
     "execution_count": 3,
     "metadata": {},
     "output_type": "execute_result"
    }
   ],
   "execution_count": 3
  },
  {
   "cell_type": "code",
   "metadata": {
    "ExecuteTime": {
     "end_time": "2024-08-07T05:57:14.041326Z",
     "start_time": "2024-08-07T05:57:14.035031Z"
    }
   },
   "source": [
    "data.shape"
   ],
   "outputs": [
    {
     "data": {
      "text/plain": [
       "(11322748, 6)"
      ]
     },
     "execution_count": 172,
     "metadata": {},
     "output_type": "execute_result"
    }
   ],
   "execution_count": 172
  },
  {
   "attachments": {},
   "cell_type": "markdown",
   "metadata": {},
   "source": [
    "We did some EDA in Project 1, but it was primarily focused on higher level patterns (i.e., at the department level). This time, spend some time doing EDA at the item level to see what kind of items you're dealing with.\n",
    "\n",
    "Some questions you may want to explore:\n",
    "\n",
    "1. How do high-volume items compare to low-volume/itermittent items?\n",
    "2. What sort of seasonal patterns are at play?\n",
    "3. Do items from different departments show different patterns?\n",
    "4. Does the same item show different behavior at different stores?\n",
    "\n",
    "These questions are just a starting point. Feel free to explore this any way you feel is necessary to make better models. The best EDA is done iteratively, so I encourage you to come back to this once you've started fitting models!"
   ]
  },
  {
   "cell_type": "code",
   "metadata": {
    "ExecuteTime": {
     "end_time": "2024-08-07T05:57:14.272057Z",
     "start_time": "2024-08-07T05:57:14.042527Z"
    }
   },
   "source": [
    "# do some EDA!\n",
    "\n",
    "data.groupby('dept_id', observed=True)['sales'].sum().nlargest(10)"
   ],
   "outputs": [
    {
     "data": {
      "text/plain": [
       "dept_id\n",
       "FOODS_3        6249806\n",
       "HOUSEHOLD_1    2636374\n",
       "FOODS_2        1399522\n",
       "HOBBIES_1      1005896\n",
       "FOODS_1         911553\n",
       "HOUSEHOLD_2     565305\n",
       "HOBBIES_2       137259\n",
       "Name: sales, dtype: int64"
      ]
     },
     "execution_count": 173,
     "metadata": {},
     "output_type": "execute_result"
    }
   ],
   "execution_count": 173
  },
  {
   "metadata": {
    "ExecuteTime": {
     "end_time": "2024-08-07T05:57:15.391492Z",
     "start_time": "2024-08-07T05:57:14.274710Z"
    }
   },
   "cell_type": "code",
   "source": "data.groupby('item_id', observed=True)['sales'].sum().nlargest(10)",
   "outputs": [
    {
     "data": {
      "text/plain": [
       "item_id\n",
       "FOODS_3_586    268446\n",
       "FOODS_3_090    213234\n",
       "FOODS_3_252    157684\n",
       "FOODS_3_555    129745\n",
       "FOODS_3_377    104523\n",
       "FOODS_3_587     91869\n",
       "FOODS_3_714     83635\n",
       "FOODS_3_202     75923\n",
       "FOODS_3_607     72184\n",
       "FOODS_3_030     67356\n",
       "Name: sales, dtype: int64"
      ]
     },
     "execution_count": 174,
     "metadata": {},
     "output_type": "execute_result"
    }
   ],
   "execution_count": 174
  },
  {
   "metadata": {
    "ExecuteTime": {
     "end_time": "2024-08-07T05:57:16.409991Z",
     "start_time": "2024-08-07T05:57:15.392778Z"
    }
   },
   "cell_type": "code",
   "source": [
    "data.groupby('state_id', observed=True)['sales'].sum().nlargest(10)\n",
    "\n",
    "# All data is from Texas"
   ],
   "outputs": [
    {
     "data": {
      "text/plain": [
       "state_id\n",
       "TX    12905715\n",
       "Name: sales, dtype: int64"
      ]
     },
     "execution_count": 175,
     "metadata": {},
     "output_type": "execute_result"
    }
   ],
   "execution_count": 175
  },
  {
   "metadata": {
    "ExecuteTime": {
     "end_time": "2024-08-07T05:57:16.598974Z",
     "start_time": "2024-08-07T05:57:16.410970Z"
    }
   },
   "cell_type": "code",
   "source": [
    "data.groupby('store_id', observed=True)['sales'].sum().nlargest(10)\n",
    "\n",
    "# All three stores are within the same order of magnitude of sales"
   ],
   "outputs": [
    {
     "data": {
      "text/plain": [
       "store_id\n",
       "TX_2    4808797\n",
       "TX_3    4267762\n",
       "TX_1    3829156\n",
       "Name: sales, dtype: int64"
      ]
     },
     "execution_count": 176,
     "metadata": {},
     "output_type": "execute_result"
    }
   ],
   "execution_count": 176
  },
  {
   "metadata": {
    "ExecuteTime": {
     "end_time": "2024-08-07T05:58:28.221164Z",
     "start_time": "2024-08-07T05:58:26.897602Z"
    }
   },
   "cell_type": "code",
   "source": [
    "prices = pd.read_parquet(f'data/prices.parquet')\n",
    "prices"
   ],
   "outputs": [
    {
     "data": {
      "text/plain": [
       "           store_id        item_id  sell_price\n",
       "date                                          \n",
       "2013-07-13     TX_1  HOBBIES_1_001        9.58\n",
       "2013-07-14     TX_1  HOBBIES_1_001        9.58\n",
       "2013-07-15     TX_1  HOBBIES_1_001        9.58\n",
       "2013-07-16     TX_1  HOBBIES_1_001        9.58\n",
       "2013-07-17     TX_1  HOBBIES_1_001        9.58\n",
       "...             ...            ...         ...\n",
       "2011-02-28     TX_3    FOODS_3_825        4.00\n",
       "2011-03-01     TX_3    FOODS_3_825        4.00\n",
       "2011-03-02     TX_3    FOODS_3_825        4.00\n",
       "2011-03-03     TX_3    FOODS_3_825        4.00\n",
       "2011-03-04     TX_3    FOODS_3_825        4.00\n",
       "\n",
       "[14599119 rows x 3 columns]"
      ],
      "text/html": [
       "<div>\n",
       "<style scoped>\n",
       "    .dataframe tbody tr th:only-of-type {\n",
       "        vertical-align: middle;\n",
       "    }\n",
       "\n",
       "    .dataframe tbody tr th {\n",
       "        vertical-align: top;\n",
       "    }\n",
       "\n",
       "    .dataframe thead th {\n",
       "        text-align: right;\n",
       "    }\n",
       "</style>\n",
       "<table border=\"1\" class=\"dataframe\">\n",
       "  <thead>\n",
       "    <tr style=\"text-align: right;\">\n",
       "      <th></th>\n",
       "      <th>store_id</th>\n",
       "      <th>item_id</th>\n",
       "      <th>sell_price</th>\n",
       "    </tr>\n",
       "    <tr>\n",
       "      <th>date</th>\n",
       "      <th></th>\n",
       "      <th></th>\n",
       "      <th></th>\n",
       "    </tr>\n",
       "  </thead>\n",
       "  <tbody>\n",
       "    <tr>\n",
       "      <th>2013-07-13</th>\n",
       "      <td>TX_1</td>\n",
       "      <td>HOBBIES_1_001</td>\n",
       "      <td>9.58</td>\n",
       "    </tr>\n",
       "    <tr>\n",
       "      <th>2013-07-14</th>\n",
       "      <td>TX_1</td>\n",
       "      <td>HOBBIES_1_001</td>\n",
       "      <td>9.58</td>\n",
       "    </tr>\n",
       "    <tr>\n",
       "      <th>2013-07-15</th>\n",
       "      <td>TX_1</td>\n",
       "      <td>HOBBIES_1_001</td>\n",
       "      <td>9.58</td>\n",
       "    </tr>\n",
       "    <tr>\n",
       "      <th>2013-07-16</th>\n",
       "      <td>TX_1</td>\n",
       "      <td>HOBBIES_1_001</td>\n",
       "      <td>9.58</td>\n",
       "    </tr>\n",
       "    <tr>\n",
       "      <th>2013-07-17</th>\n",
       "      <td>TX_1</td>\n",
       "      <td>HOBBIES_1_001</td>\n",
       "      <td>9.58</td>\n",
       "    </tr>\n",
       "    <tr>\n",
       "      <th>...</th>\n",
       "      <td>...</td>\n",
       "      <td>...</td>\n",
       "      <td>...</td>\n",
       "    </tr>\n",
       "    <tr>\n",
       "      <th>2011-02-28</th>\n",
       "      <td>TX_3</td>\n",
       "      <td>FOODS_3_825</td>\n",
       "      <td>4.00</td>\n",
       "    </tr>\n",
       "    <tr>\n",
       "      <th>2011-03-01</th>\n",
       "      <td>TX_3</td>\n",
       "      <td>FOODS_3_825</td>\n",
       "      <td>4.00</td>\n",
       "    </tr>\n",
       "    <tr>\n",
       "      <th>2011-03-02</th>\n",
       "      <td>TX_3</td>\n",
       "      <td>FOODS_3_825</td>\n",
       "      <td>4.00</td>\n",
       "    </tr>\n",
       "    <tr>\n",
       "      <th>2011-03-03</th>\n",
       "      <td>TX_3</td>\n",
       "      <td>FOODS_3_825</td>\n",
       "      <td>4.00</td>\n",
       "    </tr>\n",
       "    <tr>\n",
       "      <th>2011-03-04</th>\n",
       "      <td>TX_3</td>\n",
       "      <td>FOODS_3_825</td>\n",
       "      <td>4.00</td>\n",
       "    </tr>\n",
       "  </tbody>\n",
       "</table>\n",
       "<p>14599119 rows × 3 columns</p>\n",
       "</div>"
      ]
     },
     "execution_count": 4,
     "metadata": {},
     "output_type": "execute_result"
    }
   ],
   "execution_count": 4
  },
  {
   "metadata": {
    "ExecuteTime": {
     "end_time": "2024-08-07T05:58:37.685797Z",
     "start_time": "2024-08-07T05:58:28.223097Z"
    }
   },
   "cell_type": "code",
   "source": "data = data.merge(prices, on=['date', 'store_id', 'item_id'])",
   "outputs": [],
   "execution_count": 5
  },
  {
   "metadata": {
    "ExecuteTime": {
     "end_time": "2024-08-07T05:55:24.257671Z",
     "start_time": "2024-08-07T05:55:15.712514Z"
    }
   },
   "cell_type": "code",
   "source": "data = data.reset_index().set_index(['date', 'item_id'])",
   "outputs": [],
   "execution_count": 158
  },
  {
   "metadata": {
    "ExecuteTime": {
     "end_time": "2024-08-07T05:55:24.325321Z",
     "start_time": "2024-08-07T05:55:24.259102Z"
    }
   },
   "cell_type": "code",
   "source": "data['sales_dollars'] = data['sales'] * data['sell_price']",
   "outputs": [],
   "execution_count": 159
  },
  {
   "metadata": {
    "ExecuteTime": {
     "end_time": "2024-08-07T04:39:01.657882Z",
     "start_time": "2024-08-07T04:39:00.736278Z"
    }
   },
   "cell_type": "code",
   "source": [
    "data.groupby('item_id', observed=True)['sales_dollars'].sum().nlargest(10)\n",
    "\n",
    "# Two hobby items are in the top 3 of sales dollars"
   ],
   "outputs": [
    {
     "data": {
      "text/plain": [
       "item_id\n",
       "HOBBIES_1_354    449350.54\n",
       "FOODS_3_586      438633.08\n",
       "HOBBIES_1_158    349472.76\n",
       "FOODS_3_202      323309.93\n",
       "FOODS_3_090      294134.33\n",
       "FOODS_3_252      243457.32\n",
       "FOODS_3_444      237594.78\n",
       "FOODS_3_555      211578.30\n",
       "FOODS_3_587      200238.42\n",
       "FOODS_3_120      186408.40\n",
       "Name: sales_dollars, dtype: float64"
      ]
     },
     "execution_count": 236,
     "metadata": {},
     "output_type": "execute_result"
    }
   ],
   "execution_count": 236
  },
  {
   "metadata": {
    "ExecuteTime": {
     "end_time": "2024-08-07T04:40:33.218885Z",
     "start_time": "2024-08-07T04:40:32.542390Z"
    }
   },
   "cell_type": "code",
   "source": "data.groupby('store_id', observed=True)['sales_dollars'].sum().nlargest(10)",
   "outputs": [
    {
     "data": {
      "text/plain": [
       "store_id\n",
       "TX_2    14125923.53\n",
       "TX_3    12999846.94\n",
       "TX_1    11132219.10\n",
       "Name: sales_dollars, dtype: float64"
      ]
     },
     "execution_count": 237,
     "metadata": {},
     "output_type": "execute_result"
    }
   ],
   "execution_count": 237
  },
  {
   "metadata": {
    "ExecuteTime": {
     "end_time": "2024-08-07T04:40:53.694823Z",
     "start_time": "2024-08-07T04:40:53.490387Z"
    }
   },
   "cell_type": "code",
   "source": "data.groupby('dept_id', observed=True)['sales_dollars'].sum().nlargest(10)",
   "outputs": [
    {
     "data": {
      "text/plain": [
       "dept_id\n",
       "FOODS_3        13841190.67\n",
       "HOUSEHOLD_1     9221398.25\n",
       "HOBBIES_1       4987195.23\n",
       "FOODS_2         4740442.01\n",
       "HOUSEHOLD_2     2657453.75\n",
       "FOODS_1         2513567.37\n",
       "HOBBIES_2        296742.29\n",
       "Name: sales_dollars, dtype: float64"
      ]
     },
     "execution_count": 238,
     "metadata": {},
     "output_type": "execute_result"
    }
   ],
   "execution_count": 238
  },
  {
   "metadata": {
    "ExecuteTime": {
     "end_time": "2024-08-07T04:42:16.360062Z",
     "start_time": "2024-08-07T04:42:16.154469Z"
    }
   },
   "cell_type": "code",
   "source": "data.groupby('cat_id', observed=True)['sales_dollars'].sum().nlargest(10)",
   "outputs": [
    {
     "data": {
      "text/plain": [
       "cat_id\n",
       "FOODS        21095200.05\n",
       "HOUSEHOLD    11878852.00\n",
       "HOBBIES       5283937.52\n",
       "Name: sales_dollars, dtype: float64"
      ]
     },
     "execution_count": 240,
     "metadata": {},
     "output_type": "execute_result"
    }
   ],
   "execution_count": 240
  },
  {
   "attachments": {},
   "cell_type": "markdown",
   "metadata": {},
   "source": [
    "Before we get to modeling, let's create our evaluation setup. The models that we're going to create have a 28-day forecast horizon, and our goal is to best approximate \"average\" sales."
   ]
  },
  {
   "attachments": {},
   "cell_type": "markdown",
   "metadata": {},
   "source": [
    "The first step is to implement our evaluation metric. The original competition used a metric called RMSSE, or \"Root Mean Squared Scaled Error.\" It's similar to the MASE metric that we discussed before, except that the metric optimizes better for \"average\" sales (as opposed to MASE, which optimizes for the median, since it's an absolute error metric). The competition actually used a weighted version of RMSSE which is techincally more robust, but we're going to stick to RMSSE. Here's what RMSSE looks like:\n",
    "\n",
    "$RMSSE = \\sqrt{\\frac{1}{h}\\frac{\\sum^{n+h}_{t=n+1} (Y_t - \\hat{Y}_t)^2}{\\frac{1}{n-1}\\sum^n_{t=2} (Y_t - Y_{t-1})^2}}$\n",
    "\n",
    "where $Y_t$ is the actual future value of sales at date $t$, $\\hat{Y}_t$ is your forecast for date $t$, $n$ is the number of dates in our training set, and $h$ is our forecast horizon (28 days, in our case).\n",
    "\n",
    "That looks intimidating! But, similarly to MASE, you can break it down into two parts:\n",
    "- The numerator: $\\frac{1}{h}\\sum^{n+h}_{t=n+1} (Y_t - \\hat{Y}_t)^2$, which is just the MSE for every prediction in the validation set.\n",
    "- The denominator: $\\frac{1}{n-1}\\sum^n_{t=2} (Y_t - Y_{t-1})^2$, which is just the MSE over the entire training set if your forecast was a naive, one-day-ahead forecast. We refer to this as the \"scale\" since it's really just a benchmark -- errors less than this are better than the benchmark, and errors greater than this are worse.\n",
    "\n",
    "Of course, the \"naive, one-day-ahead forecast\" part only works if you calculate both the numerator and denominator separately for each `id`. So, the idea here is that you are effectively calculating an RMSSE value for each `id`, and then averaging those to get the final RMSSE.\n",
    "\n",
    "Last comment: there are products in the dataset that don't start showing sales for some time. For those products, the denominator is only supposed to be calculated after the first sale in the dataset. I'd recommend just dropping the records for those products until that first sales, which is straightforward to do using `.cumsum()` over `sales` while grouping by `id`."
   ]
  },
  {
   "cell_type": "code",
   "metadata": {
    "ExecuteTime": {
     "end_time": "2024-08-07T05:08:42.859503Z",
     "start_time": "2024-08-07T05:08:42.384978Z"
    }
   },
   "source": [
    "# QUESTION: filter out products that don't have sales using cumsum\n",
    "\n",
    "data = (\n",
    "    data\n",
    "    .pipe(lambda df: df[ data.groupby('id', observed=False)['sales'].cumsum() > 0 ])\n",
    ")\n",
    "data.shape"
   ],
   "outputs": [
    {
     "data": {
      "text/plain": [
       "(10298579, 6)"
      ]
     },
     "execution_count": 5,
     "metadata": {},
     "output_type": "execute_result"
    }
   ],
   "execution_count": 5
  },
  {
   "attachments": {},
   "cell_type": "markdown",
   "metadata": {},
   "source": [
    "Here's how you should implement your RMSSE:\n",
    "\n",
    "1. Create a function called `rmsse` that looks like this:\n",
    "\n",
    "`def rmsse(train, val, y_pred):`\n",
    "\n",
    "where:\n",
    "- `train` is the `pd.DataFrame` representing the training set\n",
    "- `val` is the `pd.DataFrame` representing the validation set\n",
    "- `y_pred` is either a `pd.Series` or `np.ndarray` that is the output of your model\n",
    "\n",
    "2. Start by calculating the scale (i.e. denominator from above) for each `id` over the training set.\n",
    "\n",
    "3. Then, calculate the MSE for each `id` over the validation set.\n",
    "\n",
    "4. Merge the scale dataframe onto the dataframe that contains your validation MSE values.\n",
    "\n",
    "5. Use the merged dataframe to calculate the RMSSE for each `id`, and finally return the average of all of those RMSSE values.\n",
    "\n",
    "Don't worry that you haven't split your data into training and validation sets yet. I gave you a test case below to see if your code is working before you move on. Also, don't be afraid to do this in a simple, looped fashion before refactoring it into more beautiful Pandas code. Take advantage of that test case!\n",
    "\n",
    "*Note:* If you're stuck, check the project instructions for the answer!"
   ]
  },
  {
   "metadata": {
    "ExecuteTime": {
     "end_time": "2024-08-06T22:10:36.506035Z",
     "start_time": "2024-08-06T22:10:30.431232Z"
    }
   },
   "cell_type": "code",
   "source": "# QUESTION: implement rmsse\n",
   "outputs": [
    {
     "data": {
      "text/plain": [
       "id\n",
       "FOODS_1_001_TX_1_evaluation    3.151786\n",
       "FOODS_1_001_TX_2_evaluation    2.063518\n",
       "FOODS_1_001_TX_3_evaluation    1.262768\n",
       "FOODS_1_002_TX_1_evaluation    0.465154\n",
       "FOODS_1_002_TX_2_evaluation    0.559184\n",
       "dtype: float64"
      ]
     },
     "execution_count": 46,
     "metadata": {},
     "output_type": "execute_result"
    }
   ],
   "execution_count": 46
  },
  {
   "cell_type": "code",
   "metadata": {
    "ExecuteTime": {
     "end_time": "2024-08-07T06:08:35.841327Z",
     "start_time": "2024-08-07T06:08:35.837493Z"
    }
   },
   "source": [
    "# QUESTION: implement rmsse\n",
    "\n",
    "def rmsse(train, val, y_pred):\n",
    "    # Start by calculating the scale for each id over the training set.\n",
    "    scale = train.groupby(\"id\", observed=False).apply(lambda x: (x[\"sales\"].diff()).dropna().pow(2).mean(), include_groups=False)\n",
    "\n",
    "    # then, calculate the MSE for each id over the validation set\n",
    "    numerator_df = pd.concat([val, pd.DataFrame(y_pred, columns=[\"pred\"])], axis=1).set_index(\"id\")\n",
    "    mse = (numerator_df['sales'] - numerator_df['pred']) ** 2\n",
    "    mse = mse.groupby(\"id\").mean()\n",
    "\n",
    "    # Calculate the RMSSE for each id, and finally return the average of all of those RMSSE values.\n",
    "    return np.sqrt((mse / scale).groupby(\"id\").sum()).mean()"
   ],
   "outputs": [],
   "execution_count": 4
  },
  {
   "metadata": {
    "ExecuteTime": {
     "end_time": "2024-08-07T06:18:21.844085Z",
     "start_time": "2024-08-07T06:18:21.839672Z"
    }
   },
   "cell_type": "code",
   "source": [
    "# Alternative solution:\n",
    "\n",
    "def rmsse(train, val, y_pred):\n",
    "    train_scale = (\n",
    "        train\n",
    "        .assign(\n",
    "            scale=train.groupby('id').sales.diff() ** 2,\n",
    "        )\n",
    "        .groupby('id')\n",
    "        .scale\n",
    "        .mean()\n",
    "    )\n",
    "    \n",
    "    score = (\n",
    "        val\n",
    "        .assign(squared_error=(val.sales - y_pred) ** 2)\n",
    "        .groupby('id')\n",
    "        .squared_error\n",
    "        .mean()\n",
    "        .to_frame()\n",
    "        .merge(train_scale, on='id')\n",
    "        .assign(rmsse=lambda x: np.sqrt(x.squared_error / x.scale))\n",
    "        .rmsse\n",
    "        .mean()\n",
    "    )\n",
    "\n",
    "    return score"
   ],
   "outputs": [],
   "execution_count": 22
  },
  {
   "metadata": {
    "ExecuteTime": {
     "end_time": "2024-08-07T06:18:23.835793Z",
     "start_time": "2024-08-07T06:18:23.820888Z"
    }
   },
   "cell_type": "code",
   "source": [
    "def test_rmsse():\n",
    "    test_train = pd.DataFrame({\n",
    "        'id': ['a', 'a', 'a', 'b', 'b', 'b', 'c', 'c', 'c'],\n",
    "        'sales': [3, 2, 5, 100, 150, 60, 10, 20, 30],\n",
    "    })\n",
    "    test_val = pd.DataFrame({\n",
    "        'id': ['a', 'a', 'a', 'b', 'b', 'b', 'c', 'c', 'c'],\n",
    "        'sales': [6, 1, 4, 200, 120, 270, 10, 20, 30],\n",
    "    })\n",
    "    test_y_pred = pd.Series([1, 2, 3, 180, 160, 240, 20, 30, 40])\n",
    "    assert np.abs(rmsse(test_train, test_val, test_y_pred) - 0.92290404515501) < 1e-6\n",
    "\n",
    "test_rmsse()"
   ],
   "outputs": [],
   "execution_count": 23
  },
  {
   "attachments": {},
   "cell_type": "markdown",
   "metadata": {},
   "source": [
    "# Fitting models"
   ]
  },
  {
   "attachments": {},
   "cell_type": "markdown",
   "metadata": {},
   "source": [
    "Now it's time to fit a LightGBM model. You'll be fitting a single model that predicts 28 days into the future. Remember to focus less on hyperparameter tuning and a lot more on the data and your features.\n",
    "\n",
    "Feature engineering can be tricky! I'd recommend giving it a shot yourself, but if you get stuck, remember that I provided code to calculate rolling and lagged features in the course modules.\n",
    "\n",
    "Remember to also use the external datasets that I provided, they'll be very useful!"
   ]
  },
  {
   "attachments": {},
   "cell_type": "markdown",
   "metadata": {},
   "source": [
    "Here's some sample feature engineering code to get started with:"
   ]
  },
  {
   "metadata": {
    "ExecuteTime": {
     "end_time": "2024-08-07T04:01:47.922472Z",
     "start_time": "2024-08-07T04:01:47.911335Z"
    }
   },
   "cell_type": "code",
   "source": [
    "calendar = pd.read_parquet(f'data/calendar.parquet')\n",
    "calendar"
   ],
   "outputs": [
    {
     "data": {
      "text/plain": [
       "            snap_TX  event_name_1 event_type_1  event_name_2 event_type_2\n",
       "date                                                                     \n",
       "2011-01-29        0          None         None          None         None\n",
       "2011-01-30        0          None         None          None         None\n",
       "2011-01-31        0          None         None          None         None\n",
       "2011-02-01        1          None         None          None         None\n",
       "2011-02-02        0          None         None          None         None\n",
       "...             ...           ...          ...           ...          ...\n",
       "2016-06-15        1          None         None          None         None\n",
       "2016-06-16        0          None         None          None         None\n",
       "2016-06-17        0          None         None          None         None\n",
       "2016-06-18        0          None         None          None         None\n",
       "2016-06-19        0  NBAFinalsEnd     Sporting  Father's day     Cultural\n",
       "\n",
       "[1969 rows x 5 columns]"
      ],
      "text/html": [
       "<div>\n",
       "<style scoped>\n",
       "    .dataframe tbody tr th:only-of-type {\n",
       "        vertical-align: middle;\n",
       "    }\n",
       "\n",
       "    .dataframe tbody tr th {\n",
       "        vertical-align: top;\n",
       "    }\n",
       "\n",
       "    .dataframe thead th {\n",
       "        text-align: right;\n",
       "    }\n",
       "</style>\n",
       "<table border=\"1\" class=\"dataframe\">\n",
       "  <thead>\n",
       "    <tr style=\"text-align: right;\">\n",
       "      <th></th>\n",
       "      <th>snap_TX</th>\n",
       "      <th>event_name_1</th>\n",
       "      <th>event_type_1</th>\n",
       "      <th>event_name_2</th>\n",
       "      <th>event_type_2</th>\n",
       "    </tr>\n",
       "    <tr>\n",
       "      <th>date</th>\n",
       "      <th></th>\n",
       "      <th></th>\n",
       "      <th></th>\n",
       "      <th></th>\n",
       "      <th></th>\n",
       "    </tr>\n",
       "  </thead>\n",
       "  <tbody>\n",
       "    <tr>\n",
       "      <th>2011-01-29</th>\n",
       "      <td>0</td>\n",
       "      <td>None</td>\n",
       "      <td>None</td>\n",
       "      <td>None</td>\n",
       "      <td>None</td>\n",
       "    </tr>\n",
       "    <tr>\n",
       "      <th>2011-01-30</th>\n",
       "      <td>0</td>\n",
       "      <td>None</td>\n",
       "      <td>None</td>\n",
       "      <td>None</td>\n",
       "      <td>None</td>\n",
       "    </tr>\n",
       "    <tr>\n",
       "      <th>2011-01-31</th>\n",
       "      <td>0</td>\n",
       "      <td>None</td>\n",
       "      <td>None</td>\n",
       "      <td>None</td>\n",
       "      <td>None</td>\n",
       "    </tr>\n",
       "    <tr>\n",
       "      <th>2011-02-01</th>\n",
       "      <td>1</td>\n",
       "      <td>None</td>\n",
       "      <td>None</td>\n",
       "      <td>None</td>\n",
       "      <td>None</td>\n",
       "    </tr>\n",
       "    <tr>\n",
       "      <th>2011-02-02</th>\n",
       "      <td>0</td>\n",
       "      <td>None</td>\n",
       "      <td>None</td>\n",
       "      <td>None</td>\n",
       "      <td>None</td>\n",
       "    </tr>\n",
       "    <tr>\n",
       "      <th>...</th>\n",
       "      <td>...</td>\n",
       "      <td>...</td>\n",
       "      <td>...</td>\n",
       "      <td>...</td>\n",
       "      <td>...</td>\n",
       "    </tr>\n",
       "    <tr>\n",
       "      <th>2016-06-15</th>\n",
       "      <td>1</td>\n",
       "      <td>None</td>\n",
       "      <td>None</td>\n",
       "      <td>None</td>\n",
       "      <td>None</td>\n",
       "    </tr>\n",
       "    <tr>\n",
       "      <th>2016-06-16</th>\n",
       "      <td>0</td>\n",
       "      <td>None</td>\n",
       "      <td>None</td>\n",
       "      <td>None</td>\n",
       "      <td>None</td>\n",
       "    </tr>\n",
       "    <tr>\n",
       "      <th>2016-06-17</th>\n",
       "      <td>0</td>\n",
       "      <td>None</td>\n",
       "      <td>None</td>\n",
       "      <td>None</td>\n",
       "      <td>None</td>\n",
       "    </tr>\n",
       "    <tr>\n",
       "      <th>2016-06-18</th>\n",
       "      <td>0</td>\n",
       "      <td>None</td>\n",
       "      <td>None</td>\n",
       "      <td>None</td>\n",
       "      <td>None</td>\n",
       "    </tr>\n",
       "    <tr>\n",
       "      <th>2016-06-19</th>\n",
       "      <td>0</td>\n",
       "      <td>NBAFinalsEnd</td>\n",
       "      <td>Sporting</td>\n",
       "      <td>Father's day</td>\n",
       "      <td>Cultural</td>\n",
       "    </tr>\n",
       "  </tbody>\n",
       "</table>\n",
       "<p>1969 rows × 5 columns</p>\n",
       "</div>"
      ]
     },
     "execution_count": 208,
     "metadata": {},
     "output_type": "execute_result"
    }
   ],
   "execution_count": 208
  },
  {
   "metadata": {
    "ExecuteTime": {
     "end_time": "2024-08-07T05:56:07.760534Z",
     "start_time": "2024-08-07T05:56:07.746903Z"
    }
   },
   "cell_type": "code",
   "source": "data",
   "outputs": [
    {
     "data": {
      "text/plain": [
       "                        dept_id cat_id store_id state_id  sales  sell_price  \\\n",
       "date       item_id                                                            \n",
       "2013-01-01 FOODS_1_004  FOODS_1  FOODS     TX_1       TX     20        1.78   \n",
       "           FOODS_1_004  FOODS_1  FOODS     TX_2       TX     20        1.78   \n",
       "           FOODS_1_004  FOODS_1  FOODS     TX_3       TX      4        1.78   \n",
       "           FOODS_1_005  FOODS_1  FOODS     TX_2       TX      1        3.28   \n",
       "           FOODS_1_009  FOODS_1  FOODS     TX_2       TX      3        2.68   \n",
       "...                         ...    ...      ...      ...    ...         ...   \n",
       "2016-05-22 FOODS_2_117  FOODS_2  FOODS     TX_1       TX      0        5.97   \n",
       "           FOODS_2_256  FOODS_2  FOODS     TX_3       TX      1        6.36   \n",
       "           FOODS_2_256  FOODS_2  FOODS     TX_1       TX      0        6.36   \n",
       "           FOODS_3_296  FOODS_3  FOODS     TX_2       TX      3        2.00   \n",
       "           FOODS_2_069  FOODS_2  FOODS     TX_3       TX      0        8.98   \n",
       "\n",
       "                        sales_dollars  \n",
       "date       item_id                     \n",
       "2013-01-01 FOODS_1_004          35.60  \n",
       "           FOODS_1_004          35.60  \n",
       "           FOODS_1_004           7.12  \n",
       "           FOODS_1_005           3.28  \n",
       "           FOODS_1_009           8.04  \n",
       "...                               ...  \n",
       "2016-05-22 FOODS_2_117           0.00  \n",
       "           FOODS_2_256           6.36  \n",
       "           FOODS_2_256           0.00  \n",
       "           FOODS_3_296           6.00  \n",
       "           FOODS_2_069           0.00  \n",
       "\n",
       "[10455914 rows x 7 columns]"
      ],
      "text/html": [
       "<div>\n",
       "<style scoped>\n",
       "    .dataframe tbody tr th:only-of-type {\n",
       "        vertical-align: middle;\n",
       "    }\n",
       "\n",
       "    .dataframe tbody tr th {\n",
       "        vertical-align: top;\n",
       "    }\n",
       "\n",
       "    .dataframe thead th {\n",
       "        text-align: right;\n",
       "    }\n",
       "</style>\n",
       "<table border=\"1\" class=\"dataframe\">\n",
       "  <thead>\n",
       "    <tr style=\"text-align: right;\">\n",
       "      <th></th>\n",
       "      <th></th>\n",
       "      <th>dept_id</th>\n",
       "      <th>cat_id</th>\n",
       "      <th>store_id</th>\n",
       "      <th>state_id</th>\n",
       "      <th>sales</th>\n",
       "      <th>sell_price</th>\n",
       "      <th>sales_dollars</th>\n",
       "    </tr>\n",
       "    <tr>\n",
       "      <th>date</th>\n",
       "      <th>item_id</th>\n",
       "      <th></th>\n",
       "      <th></th>\n",
       "      <th></th>\n",
       "      <th></th>\n",
       "      <th></th>\n",
       "      <th></th>\n",
       "      <th></th>\n",
       "    </tr>\n",
       "  </thead>\n",
       "  <tbody>\n",
       "    <tr>\n",
       "      <th rowspan=\"5\" valign=\"top\">2013-01-01</th>\n",
       "      <th>FOODS_1_004</th>\n",
       "      <td>FOODS_1</td>\n",
       "      <td>FOODS</td>\n",
       "      <td>TX_1</td>\n",
       "      <td>TX</td>\n",
       "      <td>20</td>\n",
       "      <td>1.78</td>\n",
       "      <td>35.60</td>\n",
       "    </tr>\n",
       "    <tr>\n",
       "      <th>FOODS_1_004</th>\n",
       "      <td>FOODS_1</td>\n",
       "      <td>FOODS</td>\n",
       "      <td>TX_2</td>\n",
       "      <td>TX</td>\n",
       "      <td>20</td>\n",
       "      <td>1.78</td>\n",
       "      <td>35.60</td>\n",
       "    </tr>\n",
       "    <tr>\n",
       "      <th>FOODS_1_004</th>\n",
       "      <td>FOODS_1</td>\n",
       "      <td>FOODS</td>\n",
       "      <td>TX_3</td>\n",
       "      <td>TX</td>\n",
       "      <td>4</td>\n",
       "      <td>1.78</td>\n",
       "      <td>7.12</td>\n",
       "    </tr>\n",
       "    <tr>\n",
       "      <th>FOODS_1_005</th>\n",
       "      <td>FOODS_1</td>\n",
       "      <td>FOODS</td>\n",
       "      <td>TX_2</td>\n",
       "      <td>TX</td>\n",
       "      <td>1</td>\n",
       "      <td>3.28</td>\n",
       "      <td>3.28</td>\n",
       "    </tr>\n",
       "    <tr>\n",
       "      <th>FOODS_1_009</th>\n",
       "      <td>FOODS_1</td>\n",
       "      <td>FOODS</td>\n",
       "      <td>TX_2</td>\n",
       "      <td>TX</td>\n",
       "      <td>3</td>\n",
       "      <td>2.68</td>\n",
       "      <td>8.04</td>\n",
       "    </tr>\n",
       "    <tr>\n",
       "      <th>...</th>\n",
       "      <th>...</th>\n",
       "      <td>...</td>\n",
       "      <td>...</td>\n",
       "      <td>...</td>\n",
       "      <td>...</td>\n",
       "      <td>...</td>\n",
       "      <td>...</td>\n",
       "      <td>...</td>\n",
       "    </tr>\n",
       "    <tr>\n",
       "      <th rowspan=\"5\" valign=\"top\">2016-05-22</th>\n",
       "      <th>FOODS_2_117</th>\n",
       "      <td>FOODS_2</td>\n",
       "      <td>FOODS</td>\n",
       "      <td>TX_1</td>\n",
       "      <td>TX</td>\n",
       "      <td>0</td>\n",
       "      <td>5.97</td>\n",
       "      <td>0.00</td>\n",
       "    </tr>\n",
       "    <tr>\n",
       "      <th>FOODS_2_256</th>\n",
       "      <td>FOODS_2</td>\n",
       "      <td>FOODS</td>\n",
       "      <td>TX_3</td>\n",
       "      <td>TX</td>\n",
       "      <td>1</td>\n",
       "      <td>6.36</td>\n",
       "      <td>6.36</td>\n",
       "    </tr>\n",
       "    <tr>\n",
       "      <th>FOODS_2_256</th>\n",
       "      <td>FOODS_2</td>\n",
       "      <td>FOODS</td>\n",
       "      <td>TX_1</td>\n",
       "      <td>TX</td>\n",
       "      <td>0</td>\n",
       "      <td>6.36</td>\n",
       "      <td>0.00</td>\n",
       "    </tr>\n",
       "    <tr>\n",
       "      <th>FOODS_3_296</th>\n",
       "      <td>FOODS_3</td>\n",
       "      <td>FOODS</td>\n",
       "      <td>TX_2</td>\n",
       "      <td>TX</td>\n",
       "      <td>3</td>\n",
       "      <td>2.00</td>\n",
       "      <td>6.00</td>\n",
       "    </tr>\n",
       "    <tr>\n",
       "      <th>FOODS_2_069</th>\n",
       "      <td>FOODS_2</td>\n",
       "      <td>FOODS</td>\n",
       "      <td>TX_3</td>\n",
       "      <td>TX</td>\n",
       "      <td>0</td>\n",
       "      <td>8.98</td>\n",
       "      <td>0.00</td>\n",
       "    </tr>\n",
       "  </tbody>\n",
       "</table>\n",
       "<p>10455914 rows × 7 columns</p>\n",
       "</div>"
      ]
     },
     "execution_count": 170,
     "metadata": {},
     "output_type": "execute_result"
    }
   ],
   "execution_count": 170
  },
  {
   "metadata": {
    "ExecuteTime": {
     "end_time": "2024-08-07T06:08:43.876016Z",
     "start_time": "2024-08-07T06:08:43.871404Z"
    }
   },
   "cell_type": "code",
   "source": [
    "class LagFeature:\n",
    "    def __init__(self, shift_length, forecast_horizon):\n",
    "        self.shift_length = shift_length\n",
    "        self.forecast_horizon = forecast_horizon\n",
    "        \n",
    "    @property\n",
    "    def feature_name(self):\n",
    "        return f'lag_{self.shift_length}_{self.forecast_horizon}'\n",
    "    \n",
    "    def calc_lag(self, series):\n",
    "        return (\n",
    "            series\n",
    "            .groupby('id', observed=True)\n",
    "            .shift(self.forecast_horizon + self.shift_length)\n",
    "            .rename(self.feature_name)\n",
    "        )"
   ],
   "outputs": [],
   "execution_count": 7
  },
  {
   "metadata": {
    "ExecuteTime": {
     "end_time": "2024-08-07T06:08:44.995160Z",
     "start_time": "2024-08-07T06:08:44.989004Z"
    }
   },
   "cell_type": "code",
   "source": [
    "class RollingAggFeature:\n",
    "    def __init__(self, window_length, forecast_horizon, agg_func='mean', by_day_of_week=False):\n",
    "        self.window_length = window_length\n",
    "        self.forecast_horizon = forecast_horizon\n",
    "        self.agg_func = agg_func\n",
    "        self.by_day_of_week = by_day_of_week\n",
    "    \n",
    "    @property\n",
    "    def feature_name(self):\n",
    "        if self.by_day_of_week:\n",
    "            return f'by_week_rolling_{self.agg_func}_{self.window_length}_{self.forecast_horizon}'\n",
    "        else:\n",
    "            return f'rolling_{self.agg_func}_{self.window_length}_{self.forecast_horizon}'\n",
    "    \n",
    "    def calc_rolling_agg(self, series):\n",
    "        group_cols = ['id']\n",
    "        if self.by_day_of_week:\n",
    "            group_cols += ['day_of_week']\n",
    "\n",
    "        return (\n",
    "            series\n",
    "            .to_frame()\n",
    "            .assign(day_of_week=series.index.get_level_values('date').dayofweek)\n",
    "            .groupby('id', observed=True)\n",
    "            .rolling(self.window_length, closed='right', min_periods=1) # only requires 1 observation to be non-NaN\n",
    "            .agg({'sales': self.agg_func})\n",
    "            .droplevel(-1)\n",
    "            .reset_index()\n",
    "            .assign(date=lambda x: x.date + pd.Timedelta(days=28))\n",
    "            .set_index(['date', 'id'])\n",
    "            .rename(columns={'sales': self.feature_name})\n",
    "        )"
   ],
   "outputs": [],
   "execution_count": 8
  },
  {
   "metadata": {
    "ExecuteTime": {
     "end_time": "2024-08-07T06:08:45.479499Z",
     "start_time": "2024-08-07T06:08:45.476426Z"
    }
   },
   "cell_type": "code",
   "source": [
    "def calc_diff(series):    \n",
    "    return (\n",
    "        series\n",
    "        .groupby('id', observed=True)\n",
    "        .diff()\n",
    "        .rename(f'{series.name}_diff')\n",
    "    )"
   ],
   "outputs": [],
   "execution_count": 9
  },
  {
   "cell_type": "code",
   "metadata": {
    "ExecuteTime": {
     "end_time": "2024-08-07T06:11:22.695859Z",
     "start_time": "2024-08-07T06:11:22.688142Z"
    }
   },
   "source": [
    "def feature_engineering(df):\n",
    "    df_with_added_features = df.copy(deep=True)\n",
    "    forecast_horizon = 28\n",
    "    forecast_horizon_seasonal = 4\n",
    "    \n",
    "    features = ['sales']\n",
    "    \n",
    "    for lag in [1, 7, 365]:\n",
    "        lag = LagFeature(lag, forecast_horizon)\n",
    "        df_with_added_features[lag.feature_name] = lag.calc_lag(df['sales'])\n",
    "        features.append(lag.feature_name)\n",
    "\n",
    "    for window in [28, 365]:\n",
    "        roll_feature = RollingAggFeature(window, forecast_horizon)\n",
    "        df_with_added_features[roll_feature.feature_name] = roll_feature.calc_rolling_agg(df['sales'])\n",
    "        features.append(roll_feature.feature_name)\n",
    "\n",
    "    for window in [4, 52]:\n",
    "        roll_feature = RollingAggFeature(window, forecast_horizon_seasonal, by_day_of_week=True)\n",
    "        df_with_added_features[roll_feature.feature_name] = roll_feature.calc_rolling_agg(df['sales'])\n",
    "        features.append(roll_feature.feature_name)\n",
    "\n",
    "    for diff in ['sales']:\n",
    "        diff_series = calc_diff(df_with_added_features[diff])\n",
    "        df_with_added_features[diff_series.name] = diff_series\n",
    "        features.append(diff_series.name)\n",
    "\n",
    "    train = df_with_added_features.loc[:\"2015-06-01\", :]\n",
    "    val = df_with_added_features.loc[\"2015-06-01\":, :]\n",
    "    \n",
    "    return train, val, features\n"
   ],
   "outputs": [],
   "execution_count": 18
  },
  {
   "metadata": {
    "ExecuteTime": {
     "end_time": "2024-08-07T06:11:52.185534Z",
     "start_time": "2024-08-07T06:11:26.645853Z"
    }
   },
   "cell_type": "code",
   "source": "train, val, features = feature_engineering(data)",
   "outputs": [],
   "execution_count": 19
  },
  {
   "metadata": {
    "ExecuteTime": {
     "end_time": "2024-08-07T06:11:52.562717Z",
     "start_time": "2024-08-07T06:11:52.188058Z"
    }
   },
   "cell_type": "code",
   "source": "train.dropna()",
   "outputs": [
    {
     "data": {
      "text/plain": [
       "                                            item_id  dept_id cat_id store_id  \\\n",
       "date       id                                                                  \n",
       "2014-01-29 FOODS_1_004_TX_1_evaluation  FOODS_1_004  FOODS_1  FOODS     TX_1   \n",
       "           FOODS_1_004_TX_2_evaluation  FOODS_1_004  FOODS_1  FOODS     TX_2   \n",
       "           FOODS_1_004_TX_3_evaluation  FOODS_1_004  FOODS_1  FOODS     TX_3   \n",
       "           FOODS_1_005_TX_2_evaluation  FOODS_1_005  FOODS_1  FOODS     TX_2   \n",
       "           FOODS_1_009_TX_2_evaluation  FOODS_1_009  FOODS_1  FOODS     TX_2   \n",
       "...                                             ...      ...    ...      ...   \n",
       "2015-06-01 FOODS_2_117_TX_1_evaluation  FOODS_2_117  FOODS_2  FOODS     TX_1   \n",
       "           FOODS_2_256_TX_3_evaluation  FOODS_2_256  FOODS_2  FOODS     TX_3   \n",
       "           FOODS_2_256_TX_1_evaluation  FOODS_2_256  FOODS_2  FOODS     TX_1   \n",
       "           FOODS_3_296_TX_2_evaluation  FOODS_3_296  FOODS_3  FOODS     TX_2   \n",
       "           FOODS_2_069_TX_3_evaluation  FOODS_2_069  FOODS_2  FOODS     TX_3   \n",
       "\n",
       "                                       state_id  sales  lag_1_28  lag_7_28  \\\n",
       "date       id                                                                \n",
       "2014-01-29 FOODS_1_004_TX_1_evaluation       TX      8       6.0       0.0   \n",
       "           FOODS_1_004_TX_2_evaluation       TX      5      13.0       0.0   \n",
       "           FOODS_1_004_TX_3_evaluation       TX      8       7.0       0.0   \n",
       "           FOODS_1_005_TX_2_evaluation       TX      0       2.0       0.0   \n",
       "           FOODS_1_009_TX_2_evaluation       TX      0       0.0       0.0   \n",
       "...                                         ...    ...       ...       ...   \n",
       "2015-06-01 FOODS_2_117_TX_1_evaluation       TX      0       0.0       0.0   \n",
       "           FOODS_2_256_TX_3_evaluation       TX      0       0.0       0.0   \n",
       "           FOODS_2_256_TX_1_evaluation       TX      0       0.0       0.0   \n",
       "           FOODS_3_296_TX_2_evaluation       TX      0       0.0       0.0   \n",
       "           FOODS_2_069_TX_3_evaluation       TX      0       0.0       0.0   \n",
       "\n",
       "                                        lag_365_28  rolling_mean_28_28  \\\n",
       "date       id                                                            \n",
       "2014-01-29 FOODS_1_004_TX_1_evaluation        20.0            7.321429   \n",
       "           FOODS_1_004_TX_2_evaluation        20.0           12.071429   \n",
       "           FOODS_1_004_TX_3_evaluation         4.0            9.642857   \n",
       "           FOODS_1_005_TX_2_evaluation         1.0            2.428571   \n",
       "           FOODS_1_009_TX_2_evaluation         3.0            0.000000   \n",
       "...                                            ...                 ...   \n",
       "2015-06-01 FOODS_2_117_TX_1_evaluation         0.0            0.000000   \n",
       "           FOODS_2_256_TX_3_evaluation         0.0            0.000000   \n",
       "           FOODS_2_256_TX_1_evaluation         0.0            0.000000   \n",
       "           FOODS_3_296_TX_2_evaluation         0.0            0.000000   \n",
       "           FOODS_2_069_TX_3_evaluation         0.0            0.000000   \n",
       "\n",
       "                                        rolling_mean_365_28  \\\n",
       "date       id                                                 \n",
       "2014-01-29 FOODS_1_004_TX_1_evaluation             7.328767   \n",
       "           FOODS_1_004_TX_2_evaluation            13.024658   \n",
       "           FOODS_1_004_TX_3_evaluation             7.276712   \n",
       "           FOODS_1_005_TX_2_evaluation             1.115068   \n",
       "           FOODS_1_009_TX_2_evaluation             0.276712   \n",
       "...                                                     ...   \n",
       "2015-06-01 FOODS_2_117_TX_1_evaluation             0.000000   \n",
       "           FOODS_2_256_TX_3_evaluation             0.000000   \n",
       "           FOODS_2_256_TX_1_evaluation             0.000000   \n",
       "           FOODS_3_296_TX_2_evaluation             0.000000   \n",
       "           FOODS_2_069_TX_3_evaluation             0.000000   \n",
       "\n",
       "                                        by_week_rolling_mean_4_4  \\\n",
       "date       id                                                      \n",
       "2014-01-29 FOODS_1_004_TX_1_evaluation                      2.75   \n",
       "           FOODS_1_004_TX_2_evaluation                     10.25   \n",
       "           FOODS_1_004_TX_3_evaluation                      3.25   \n",
       "           FOODS_1_005_TX_2_evaluation                      1.00   \n",
       "           FOODS_1_009_TX_2_evaluation                      0.00   \n",
       "...                                                          ...   \n",
       "2015-06-01 FOODS_2_117_TX_1_evaluation                      0.00   \n",
       "           FOODS_2_256_TX_3_evaluation                      0.00   \n",
       "           FOODS_2_256_TX_1_evaluation                      0.00   \n",
       "           FOODS_3_296_TX_2_evaluation                      0.00   \n",
       "           FOODS_2_069_TX_3_evaluation                      0.00   \n",
       "\n",
       "                                        by_week_rolling_mean_52_4  sales_diff  \n",
       "date       id                                                                  \n",
       "2014-01-29 FOODS_1_004_TX_1_evaluation                   7.538462        -2.0  \n",
       "           FOODS_1_004_TX_2_evaluation                  14.326923         0.0  \n",
       "           FOODS_1_004_TX_3_evaluation                  10.346154         4.0  \n",
       "           FOODS_1_005_TX_2_evaluation                   1.980769        -1.0  \n",
       "           FOODS_1_009_TX_2_evaluation                   0.000000         0.0  \n",
       "...                                                           ...         ...  \n",
       "2015-06-01 FOODS_2_117_TX_1_evaluation                   0.000000         0.0  \n",
       "           FOODS_2_256_TX_3_evaluation                   0.000000         0.0  \n",
       "           FOODS_2_256_TX_1_evaluation                   0.000000         0.0  \n",
       "           FOODS_3_296_TX_2_evaluation                   0.000000         0.0  \n",
       "           FOODS_2_069_TX_3_evaluation                   0.000000         0.0  \n",
       "\n",
       "[4472394 rows x 14 columns]"
      ],
      "text/html": [
       "<div>\n",
       "<style scoped>\n",
       "    .dataframe tbody tr th:only-of-type {\n",
       "        vertical-align: middle;\n",
       "    }\n",
       "\n",
       "    .dataframe tbody tr th {\n",
       "        vertical-align: top;\n",
       "    }\n",
       "\n",
       "    .dataframe thead th {\n",
       "        text-align: right;\n",
       "    }\n",
       "</style>\n",
       "<table border=\"1\" class=\"dataframe\">\n",
       "  <thead>\n",
       "    <tr style=\"text-align: right;\">\n",
       "      <th></th>\n",
       "      <th></th>\n",
       "      <th>item_id</th>\n",
       "      <th>dept_id</th>\n",
       "      <th>cat_id</th>\n",
       "      <th>store_id</th>\n",
       "      <th>state_id</th>\n",
       "      <th>sales</th>\n",
       "      <th>lag_1_28</th>\n",
       "      <th>lag_7_28</th>\n",
       "      <th>lag_365_28</th>\n",
       "      <th>rolling_mean_28_28</th>\n",
       "      <th>rolling_mean_365_28</th>\n",
       "      <th>by_week_rolling_mean_4_4</th>\n",
       "      <th>by_week_rolling_mean_52_4</th>\n",
       "      <th>sales_diff</th>\n",
       "    </tr>\n",
       "    <tr>\n",
       "      <th>date</th>\n",
       "      <th>id</th>\n",
       "      <th></th>\n",
       "      <th></th>\n",
       "      <th></th>\n",
       "      <th></th>\n",
       "      <th></th>\n",
       "      <th></th>\n",
       "      <th></th>\n",
       "      <th></th>\n",
       "      <th></th>\n",
       "      <th></th>\n",
       "      <th></th>\n",
       "      <th></th>\n",
       "      <th></th>\n",
       "      <th></th>\n",
       "    </tr>\n",
       "  </thead>\n",
       "  <tbody>\n",
       "    <tr>\n",
       "      <th rowspan=\"5\" valign=\"top\">2014-01-29</th>\n",
       "      <th>FOODS_1_004_TX_1_evaluation</th>\n",
       "      <td>FOODS_1_004</td>\n",
       "      <td>FOODS_1</td>\n",
       "      <td>FOODS</td>\n",
       "      <td>TX_1</td>\n",
       "      <td>TX</td>\n",
       "      <td>8</td>\n",
       "      <td>6.0</td>\n",
       "      <td>0.0</td>\n",
       "      <td>20.0</td>\n",
       "      <td>7.321429</td>\n",
       "      <td>7.328767</td>\n",
       "      <td>2.75</td>\n",
       "      <td>7.538462</td>\n",
       "      <td>-2.0</td>\n",
       "    </tr>\n",
       "    <tr>\n",
       "      <th>FOODS_1_004_TX_2_evaluation</th>\n",
       "      <td>FOODS_1_004</td>\n",
       "      <td>FOODS_1</td>\n",
       "      <td>FOODS</td>\n",
       "      <td>TX_2</td>\n",
       "      <td>TX</td>\n",
       "      <td>5</td>\n",
       "      <td>13.0</td>\n",
       "      <td>0.0</td>\n",
       "      <td>20.0</td>\n",
       "      <td>12.071429</td>\n",
       "      <td>13.024658</td>\n",
       "      <td>10.25</td>\n",
       "      <td>14.326923</td>\n",
       "      <td>0.0</td>\n",
       "    </tr>\n",
       "    <tr>\n",
       "      <th>FOODS_1_004_TX_3_evaluation</th>\n",
       "      <td>FOODS_1_004</td>\n",
       "      <td>FOODS_1</td>\n",
       "      <td>FOODS</td>\n",
       "      <td>TX_3</td>\n",
       "      <td>TX</td>\n",
       "      <td>8</td>\n",
       "      <td>7.0</td>\n",
       "      <td>0.0</td>\n",
       "      <td>4.0</td>\n",
       "      <td>9.642857</td>\n",
       "      <td>7.276712</td>\n",
       "      <td>3.25</td>\n",
       "      <td>10.346154</td>\n",
       "      <td>4.0</td>\n",
       "    </tr>\n",
       "    <tr>\n",
       "      <th>FOODS_1_005_TX_2_evaluation</th>\n",
       "      <td>FOODS_1_005</td>\n",
       "      <td>FOODS_1</td>\n",
       "      <td>FOODS</td>\n",
       "      <td>TX_2</td>\n",
       "      <td>TX</td>\n",
       "      <td>0</td>\n",
       "      <td>2.0</td>\n",
       "      <td>0.0</td>\n",
       "      <td>1.0</td>\n",
       "      <td>2.428571</td>\n",
       "      <td>1.115068</td>\n",
       "      <td>1.00</td>\n",
       "      <td>1.980769</td>\n",
       "      <td>-1.0</td>\n",
       "    </tr>\n",
       "    <tr>\n",
       "      <th>FOODS_1_009_TX_2_evaluation</th>\n",
       "      <td>FOODS_1_009</td>\n",
       "      <td>FOODS_1</td>\n",
       "      <td>FOODS</td>\n",
       "      <td>TX_2</td>\n",
       "      <td>TX</td>\n",
       "      <td>0</td>\n",
       "      <td>0.0</td>\n",
       "      <td>0.0</td>\n",
       "      <td>3.0</td>\n",
       "      <td>0.000000</td>\n",
       "      <td>0.276712</td>\n",
       "      <td>0.00</td>\n",
       "      <td>0.000000</td>\n",
       "      <td>0.0</td>\n",
       "    </tr>\n",
       "    <tr>\n",
       "      <th>...</th>\n",
       "      <th>...</th>\n",
       "      <td>...</td>\n",
       "      <td>...</td>\n",
       "      <td>...</td>\n",
       "      <td>...</td>\n",
       "      <td>...</td>\n",
       "      <td>...</td>\n",
       "      <td>...</td>\n",
       "      <td>...</td>\n",
       "      <td>...</td>\n",
       "      <td>...</td>\n",
       "      <td>...</td>\n",
       "      <td>...</td>\n",
       "      <td>...</td>\n",
       "      <td>...</td>\n",
       "    </tr>\n",
       "    <tr>\n",
       "      <th rowspan=\"5\" valign=\"top\">2015-06-01</th>\n",
       "      <th>FOODS_2_117_TX_1_evaluation</th>\n",
       "      <td>FOODS_2_117</td>\n",
       "      <td>FOODS_2</td>\n",
       "      <td>FOODS</td>\n",
       "      <td>TX_1</td>\n",
       "      <td>TX</td>\n",
       "      <td>0</td>\n",
       "      <td>0.0</td>\n",
       "      <td>0.0</td>\n",
       "      <td>0.0</td>\n",
       "      <td>0.000000</td>\n",
       "      <td>0.000000</td>\n",
       "      <td>0.00</td>\n",
       "      <td>0.000000</td>\n",
       "      <td>0.0</td>\n",
       "    </tr>\n",
       "    <tr>\n",
       "      <th>FOODS_2_256_TX_3_evaluation</th>\n",
       "      <td>FOODS_2_256</td>\n",
       "      <td>FOODS_2</td>\n",
       "      <td>FOODS</td>\n",
       "      <td>TX_3</td>\n",
       "      <td>TX</td>\n",
       "      <td>0</td>\n",
       "      <td>0.0</td>\n",
       "      <td>0.0</td>\n",
       "      <td>0.0</td>\n",
       "      <td>0.000000</td>\n",
       "      <td>0.000000</td>\n",
       "      <td>0.00</td>\n",
       "      <td>0.000000</td>\n",
       "      <td>0.0</td>\n",
       "    </tr>\n",
       "    <tr>\n",
       "      <th>FOODS_2_256_TX_1_evaluation</th>\n",
       "      <td>FOODS_2_256</td>\n",
       "      <td>FOODS_2</td>\n",
       "      <td>FOODS</td>\n",
       "      <td>TX_1</td>\n",
       "      <td>TX</td>\n",
       "      <td>0</td>\n",
       "      <td>0.0</td>\n",
       "      <td>0.0</td>\n",
       "      <td>0.0</td>\n",
       "      <td>0.000000</td>\n",
       "      <td>0.000000</td>\n",
       "      <td>0.00</td>\n",
       "      <td>0.000000</td>\n",
       "      <td>0.0</td>\n",
       "    </tr>\n",
       "    <tr>\n",
       "      <th>FOODS_3_296_TX_2_evaluation</th>\n",
       "      <td>FOODS_3_296</td>\n",
       "      <td>FOODS_3</td>\n",
       "      <td>FOODS</td>\n",
       "      <td>TX_2</td>\n",
       "      <td>TX</td>\n",
       "      <td>0</td>\n",
       "      <td>0.0</td>\n",
       "      <td>0.0</td>\n",
       "      <td>0.0</td>\n",
       "      <td>0.000000</td>\n",
       "      <td>0.000000</td>\n",
       "      <td>0.00</td>\n",
       "      <td>0.000000</td>\n",
       "      <td>0.0</td>\n",
       "    </tr>\n",
       "    <tr>\n",
       "      <th>FOODS_2_069_TX_3_evaluation</th>\n",
       "      <td>FOODS_2_069</td>\n",
       "      <td>FOODS_2</td>\n",
       "      <td>FOODS</td>\n",
       "      <td>TX_3</td>\n",
       "      <td>TX</td>\n",
       "      <td>0</td>\n",
       "      <td>0.0</td>\n",
       "      <td>0.0</td>\n",
       "      <td>0.0</td>\n",
       "      <td>0.000000</td>\n",
       "      <td>0.000000</td>\n",
       "      <td>0.00</td>\n",
       "      <td>0.000000</td>\n",
       "      <td>0.0</td>\n",
       "    </tr>\n",
       "  </tbody>\n",
       "</table>\n",
       "<p>4472394 rows × 14 columns</p>\n",
       "</div>"
      ]
     },
     "execution_count": 20,
     "metadata": {},
     "output_type": "execute_result"
    }
   ],
   "execution_count": 20
  },
  {
   "attachments": {},
   "cell_type": "markdown",
   "metadata": {},
   "source": [
    "And some sample model fitting code:"
   ]
  },
  {
   "cell_type": "code",
   "metadata": {
    "ExecuteTime": {
     "end_time": "2024-08-07T06:17:59.378306Z",
     "start_time": "2024-08-07T06:11:52.564047Z"
    }
   },
   "source": [
    "from sklearn.preprocessing import OrdinalEncoder\n",
    "import lightgbm as lgb\n",
    "\n",
    "# some parameters to play around with. Not the best by any means!\n",
    "params = dict(\n",
    "    objective='tweedie',\n",
    "    tweedie_variance_power=1.1,\n",
    "    learning_rate=0.05,\n",
    "    min_samples_leaf=100,\n",
    "    subsample=0.3,\n",
    "    feature_fraction=0.3,\n",
    "    deterministic=True,\n",
    ")\n",
    "\n",
    "train, val, features = feature_engineering(data)\n",
    "\n",
    "train_dset = lgb.Dataset(\n",
    "    train[features], \n",
    "    train['sales'],\n",
    ")\n",
    "\n",
    "val_dset = lgb.Dataset(\n",
    "    val[features], \n",
    "    val['sales'],\n",
    ")\n",
    "\n",
    "callbacks = [\n",
    "    lgb.early_stopping(100),\n",
    "    lgb.log_evaluation(50)\n",
    "]\n",
    "\n",
    "model = lgb.train(\n",
    "    params, \n",
    "    train_dset,\n",
    "    num_boost_round=1000,\n",
    "    valid_sets=[val_dset],\n",
    "    callbacks=callbacks,\n",
    ")"
   ],
   "outputs": [],
   "execution_count": null
  },
  {
   "metadata": {
    "jupyter": {
     "is_executing": true
    },
    "ExecuteTime": {
     "start_time": "2024-08-07T06:18:40.611782Z"
    }
   },
   "cell_type": "code",
   "source": "preds = model.predict(val[features])",
   "outputs": [],
   "execution_count": null
  },
  {
   "metadata": {
    "ExecuteTime": {
     "end_time": "2024-08-07T06:19:36.347558Z",
     "start_time": "2024-08-07T06:19:36.324965Z"
    }
   },
   "cell_type": "code",
   "source": "val",
   "outputs": [
    {
     "data": {
      "text/plain": [
       "                                            item_id  dept_id cat_id store_id  \\\n",
       "date       id                                                                  \n",
       "2015-06-01 FOODS_1_004_TX_1_evaluation  FOODS_1_004  FOODS_1  FOODS     TX_1   \n",
       "           FOODS_1_004_TX_2_evaluation  FOODS_1_004  FOODS_1  FOODS     TX_2   \n",
       "           FOODS_1_004_TX_3_evaluation  FOODS_1_004  FOODS_1  FOODS     TX_3   \n",
       "           FOODS_1_005_TX_2_evaluation  FOODS_1_005  FOODS_1  FOODS     TX_2   \n",
       "           FOODS_1_009_TX_2_evaluation  FOODS_1_009  FOODS_1  FOODS     TX_2   \n",
       "...                                             ...      ...    ...      ...   \n",
       "2016-05-22 FOODS_2_117_TX_1_evaluation  FOODS_2_117  FOODS_2  FOODS     TX_1   \n",
       "           FOODS_2_256_TX_3_evaluation  FOODS_2_256  FOODS_2  FOODS     TX_3   \n",
       "           FOODS_2_256_TX_1_evaluation  FOODS_2_256  FOODS_2  FOODS     TX_1   \n",
       "           FOODS_3_296_TX_2_evaluation  FOODS_3_296  FOODS_3  FOODS     TX_2   \n",
       "           FOODS_2_069_TX_3_evaluation  FOODS_2_069  FOODS_2  FOODS     TX_3   \n",
       "\n",
       "                                       state_id  sales  lag_1_28  lag_7_28  \\\n",
       "date       id                                                                \n",
       "2015-06-01 FOODS_1_004_TX_1_evaluation       TX      7      11.0      15.0   \n",
       "           FOODS_1_004_TX_2_evaluation       TX      2       5.0       3.0   \n",
       "           FOODS_1_004_TX_3_evaluation       TX     25      20.0      21.0   \n",
       "           FOODS_1_005_TX_2_evaluation       TX      2       1.0       1.0   \n",
       "           FOODS_1_009_TX_2_evaluation       TX      0       1.0       1.0   \n",
       "...                                         ...    ...       ...       ...   \n",
       "2016-05-22 FOODS_2_117_TX_1_evaluation       TX      0       1.0       0.0   \n",
       "           FOODS_2_256_TX_3_evaluation       TX      1       0.0       3.0   \n",
       "           FOODS_2_256_TX_1_evaluation       TX      0       0.0       1.0   \n",
       "           FOODS_3_296_TX_2_evaluation       TX      3       2.0       3.0   \n",
       "           FOODS_2_069_TX_3_evaluation       TX      0       0.0       0.0   \n",
       "\n",
       "                                        lag_365_28  rolling_mean_28_28  \\\n",
       "date       id                                                            \n",
       "2015-06-01 FOODS_1_004_TX_1_evaluation         9.0            9.035714   \n",
       "           FOODS_1_004_TX_2_evaluation        11.0            3.892857   \n",
       "           FOODS_1_004_TX_3_evaluation        12.0           16.428571   \n",
       "           FOODS_1_005_TX_2_evaluation         0.0            0.821429   \n",
       "           FOODS_1_009_TX_2_evaluation         0.0            0.857143   \n",
       "...                                            ...                 ...   \n",
       "2016-05-22 FOODS_2_117_TX_1_evaluation         0.0            0.750000   \n",
       "           FOODS_2_256_TX_3_evaluation         0.0            1.071429   \n",
       "           FOODS_2_256_TX_1_evaluation         0.0            0.464286   \n",
       "           FOODS_3_296_TX_2_evaluation         0.0            1.285714   \n",
       "           FOODS_2_069_TX_3_evaluation         0.0            0.071429   \n",
       "\n",
       "                                        rolling_mean_365_28  \\\n",
       "date       id                                                 \n",
       "2015-06-01 FOODS_1_004_TX_1_evaluation             5.750685   \n",
       "           FOODS_1_004_TX_2_evaluation             4.652055   \n",
       "           FOODS_1_004_TX_3_evaluation             9.747945   \n",
       "           FOODS_1_005_TX_2_evaluation             1.158904   \n",
       "           FOODS_1_009_TX_2_evaluation             0.394521   \n",
       "...                                                     ...   \n",
       "2016-05-22 FOODS_2_117_TX_1_evaluation             0.287671   \n",
       "           FOODS_2_256_TX_3_evaluation             0.345205   \n",
       "           FOODS_2_256_TX_1_evaluation             0.158904   \n",
       "           FOODS_3_296_TX_2_evaluation             0.309589   \n",
       "           FOODS_2_069_TX_3_evaluation             0.005479   \n",
       "\n",
       "                                        by_week_rolling_mean_4_4  \\\n",
       "date       id                                                      \n",
       "2015-06-01 FOODS_1_004_TX_1_evaluation                     11.00   \n",
       "           FOODS_1_004_TX_2_evaluation                      3.75   \n",
       "           FOODS_1_004_TX_3_evaluation                     21.25   \n",
       "           FOODS_1_005_TX_2_evaluation                      1.00   \n",
       "           FOODS_1_009_TX_2_evaluation                      0.75   \n",
       "...                                                          ...   \n",
       "2016-05-22 FOODS_2_117_TX_1_evaluation                      0.50   \n",
       "           FOODS_2_256_TX_3_evaluation                      1.75   \n",
       "           FOODS_2_256_TX_1_evaluation                      0.75   \n",
       "           FOODS_3_296_TX_2_evaluation                      1.25   \n",
       "           FOODS_2_069_TX_3_evaluation                      0.50   \n",
       "\n",
       "                                        by_week_rolling_mean_52_4  sales_diff  \n",
       "date       id                                                                  \n",
       "2015-06-01 FOODS_1_004_TX_1_evaluation                   8.653846        -7.0  \n",
       "           FOODS_1_004_TX_2_evaluation                   3.442308        -8.0  \n",
       "           FOODS_1_004_TX_3_evaluation                  16.038462        10.0  \n",
       "           FOODS_1_005_TX_2_evaluation                   1.000000         1.0  \n",
       "           FOODS_1_009_TX_2_evaluation                   0.596154        -5.0  \n",
       "...                                                           ...         ...  \n",
       "2016-05-22 FOODS_2_117_TX_1_evaluation                   0.750000         0.0  \n",
       "           FOODS_2_256_TX_3_evaluation                   0.769231         0.0  \n",
       "           FOODS_2_256_TX_1_evaluation                   0.480769         0.0  \n",
       "           FOODS_3_296_TX_2_evaluation                   1.288462         3.0  \n",
       "           FOODS_2_069_TX_3_evaluation                   0.038462         0.0  \n",
       "\n",
       "[3265122 rows x 14 columns]"
      ],
      "text/html": [
       "<div>\n",
       "<style scoped>\n",
       "    .dataframe tbody tr th:only-of-type {\n",
       "        vertical-align: middle;\n",
       "    }\n",
       "\n",
       "    .dataframe tbody tr th {\n",
       "        vertical-align: top;\n",
       "    }\n",
       "\n",
       "    .dataframe thead th {\n",
       "        text-align: right;\n",
       "    }\n",
       "</style>\n",
       "<table border=\"1\" class=\"dataframe\">\n",
       "  <thead>\n",
       "    <tr style=\"text-align: right;\">\n",
       "      <th></th>\n",
       "      <th></th>\n",
       "      <th>item_id</th>\n",
       "      <th>dept_id</th>\n",
       "      <th>cat_id</th>\n",
       "      <th>store_id</th>\n",
       "      <th>state_id</th>\n",
       "      <th>sales</th>\n",
       "      <th>lag_1_28</th>\n",
       "      <th>lag_7_28</th>\n",
       "      <th>lag_365_28</th>\n",
       "      <th>rolling_mean_28_28</th>\n",
       "      <th>rolling_mean_365_28</th>\n",
       "      <th>by_week_rolling_mean_4_4</th>\n",
       "      <th>by_week_rolling_mean_52_4</th>\n",
       "      <th>sales_diff</th>\n",
       "    </tr>\n",
       "    <tr>\n",
       "      <th>date</th>\n",
       "      <th>id</th>\n",
       "      <th></th>\n",
       "      <th></th>\n",
       "      <th></th>\n",
       "      <th></th>\n",
       "      <th></th>\n",
       "      <th></th>\n",
       "      <th></th>\n",
       "      <th></th>\n",
       "      <th></th>\n",
       "      <th></th>\n",
       "      <th></th>\n",
       "      <th></th>\n",
       "      <th></th>\n",
       "      <th></th>\n",
       "    </tr>\n",
       "  </thead>\n",
       "  <tbody>\n",
       "    <tr>\n",
       "      <th rowspan=\"5\" valign=\"top\">2015-06-01</th>\n",
       "      <th>FOODS_1_004_TX_1_evaluation</th>\n",
       "      <td>FOODS_1_004</td>\n",
       "      <td>FOODS_1</td>\n",
       "      <td>FOODS</td>\n",
       "      <td>TX_1</td>\n",
       "      <td>TX</td>\n",
       "      <td>7</td>\n",
       "      <td>11.0</td>\n",
       "      <td>15.0</td>\n",
       "      <td>9.0</td>\n",
       "      <td>9.035714</td>\n",
       "      <td>5.750685</td>\n",
       "      <td>11.00</td>\n",
       "      <td>8.653846</td>\n",
       "      <td>-7.0</td>\n",
       "    </tr>\n",
       "    <tr>\n",
       "      <th>FOODS_1_004_TX_2_evaluation</th>\n",
       "      <td>FOODS_1_004</td>\n",
       "      <td>FOODS_1</td>\n",
       "      <td>FOODS</td>\n",
       "      <td>TX_2</td>\n",
       "      <td>TX</td>\n",
       "      <td>2</td>\n",
       "      <td>5.0</td>\n",
       "      <td>3.0</td>\n",
       "      <td>11.0</td>\n",
       "      <td>3.892857</td>\n",
       "      <td>4.652055</td>\n",
       "      <td>3.75</td>\n",
       "      <td>3.442308</td>\n",
       "      <td>-8.0</td>\n",
       "    </tr>\n",
       "    <tr>\n",
       "      <th>FOODS_1_004_TX_3_evaluation</th>\n",
       "      <td>FOODS_1_004</td>\n",
       "      <td>FOODS_1</td>\n",
       "      <td>FOODS</td>\n",
       "      <td>TX_3</td>\n",
       "      <td>TX</td>\n",
       "      <td>25</td>\n",
       "      <td>20.0</td>\n",
       "      <td>21.0</td>\n",
       "      <td>12.0</td>\n",
       "      <td>16.428571</td>\n",
       "      <td>9.747945</td>\n",
       "      <td>21.25</td>\n",
       "      <td>16.038462</td>\n",
       "      <td>10.0</td>\n",
       "    </tr>\n",
       "    <tr>\n",
       "      <th>FOODS_1_005_TX_2_evaluation</th>\n",
       "      <td>FOODS_1_005</td>\n",
       "      <td>FOODS_1</td>\n",
       "      <td>FOODS</td>\n",
       "      <td>TX_2</td>\n",
       "      <td>TX</td>\n",
       "      <td>2</td>\n",
       "      <td>1.0</td>\n",
       "      <td>1.0</td>\n",
       "      <td>0.0</td>\n",
       "      <td>0.821429</td>\n",
       "      <td>1.158904</td>\n",
       "      <td>1.00</td>\n",
       "      <td>1.000000</td>\n",
       "      <td>1.0</td>\n",
       "    </tr>\n",
       "    <tr>\n",
       "      <th>FOODS_1_009_TX_2_evaluation</th>\n",
       "      <td>FOODS_1_009</td>\n",
       "      <td>FOODS_1</td>\n",
       "      <td>FOODS</td>\n",
       "      <td>TX_2</td>\n",
       "      <td>TX</td>\n",
       "      <td>0</td>\n",
       "      <td>1.0</td>\n",
       "      <td>1.0</td>\n",
       "      <td>0.0</td>\n",
       "      <td>0.857143</td>\n",
       "      <td>0.394521</td>\n",
       "      <td>0.75</td>\n",
       "      <td>0.596154</td>\n",
       "      <td>-5.0</td>\n",
       "    </tr>\n",
       "    <tr>\n",
       "      <th>...</th>\n",
       "      <th>...</th>\n",
       "      <td>...</td>\n",
       "      <td>...</td>\n",
       "      <td>...</td>\n",
       "      <td>...</td>\n",
       "      <td>...</td>\n",
       "      <td>...</td>\n",
       "      <td>...</td>\n",
       "      <td>...</td>\n",
       "      <td>...</td>\n",
       "      <td>...</td>\n",
       "      <td>...</td>\n",
       "      <td>...</td>\n",
       "      <td>...</td>\n",
       "      <td>...</td>\n",
       "    </tr>\n",
       "    <tr>\n",
       "      <th rowspan=\"5\" valign=\"top\">2016-05-22</th>\n",
       "      <th>FOODS_2_117_TX_1_evaluation</th>\n",
       "      <td>FOODS_2_117</td>\n",
       "      <td>FOODS_2</td>\n",
       "      <td>FOODS</td>\n",
       "      <td>TX_1</td>\n",
       "      <td>TX</td>\n",
       "      <td>0</td>\n",
       "      <td>1.0</td>\n",
       "      <td>0.0</td>\n",
       "      <td>0.0</td>\n",
       "      <td>0.750000</td>\n",
       "      <td>0.287671</td>\n",
       "      <td>0.50</td>\n",
       "      <td>0.750000</td>\n",
       "      <td>0.0</td>\n",
       "    </tr>\n",
       "    <tr>\n",
       "      <th>FOODS_2_256_TX_3_evaluation</th>\n",
       "      <td>FOODS_2_256</td>\n",
       "      <td>FOODS_2</td>\n",
       "      <td>FOODS</td>\n",
       "      <td>TX_3</td>\n",
       "      <td>TX</td>\n",
       "      <td>1</td>\n",
       "      <td>0.0</td>\n",
       "      <td>3.0</td>\n",
       "      <td>0.0</td>\n",
       "      <td>1.071429</td>\n",
       "      <td>0.345205</td>\n",
       "      <td>1.75</td>\n",
       "      <td>0.769231</td>\n",
       "      <td>0.0</td>\n",
       "    </tr>\n",
       "    <tr>\n",
       "      <th>FOODS_2_256_TX_1_evaluation</th>\n",
       "      <td>FOODS_2_256</td>\n",
       "      <td>FOODS_2</td>\n",
       "      <td>FOODS</td>\n",
       "      <td>TX_1</td>\n",
       "      <td>TX</td>\n",
       "      <td>0</td>\n",
       "      <td>0.0</td>\n",
       "      <td>1.0</td>\n",
       "      <td>0.0</td>\n",
       "      <td>0.464286</td>\n",
       "      <td>0.158904</td>\n",
       "      <td>0.75</td>\n",
       "      <td>0.480769</td>\n",
       "      <td>0.0</td>\n",
       "    </tr>\n",
       "    <tr>\n",
       "      <th>FOODS_3_296_TX_2_evaluation</th>\n",
       "      <td>FOODS_3_296</td>\n",
       "      <td>FOODS_3</td>\n",
       "      <td>FOODS</td>\n",
       "      <td>TX_2</td>\n",
       "      <td>TX</td>\n",
       "      <td>3</td>\n",
       "      <td>2.0</td>\n",
       "      <td>3.0</td>\n",
       "      <td>0.0</td>\n",
       "      <td>1.285714</td>\n",
       "      <td>0.309589</td>\n",
       "      <td>1.25</td>\n",
       "      <td>1.288462</td>\n",
       "      <td>3.0</td>\n",
       "    </tr>\n",
       "    <tr>\n",
       "      <th>FOODS_2_069_TX_3_evaluation</th>\n",
       "      <td>FOODS_2_069</td>\n",
       "      <td>FOODS_2</td>\n",
       "      <td>FOODS</td>\n",
       "      <td>TX_3</td>\n",
       "      <td>TX</td>\n",
       "      <td>0</td>\n",
       "      <td>0.0</td>\n",
       "      <td>0.0</td>\n",
       "      <td>0.0</td>\n",
       "      <td>0.071429</td>\n",
       "      <td>0.005479</td>\n",
       "      <td>0.50</td>\n",
       "      <td>0.038462</td>\n",
       "      <td>0.0</td>\n",
       "    </tr>\n",
       "  </tbody>\n",
       "</table>\n",
       "<p>3265122 rows × 14 columns</p>\n",
       "</div>"
      ]
     },
     "execution_count": 27,
     "metadata": {},
     "output_type": "execute_result"
    }
   ],
   "execution_count": 27
  },
  {
   "metadata": {
    "ExecuteTime": {
     "end_time": "2024-08-07T06:21:02.521535Z",
     "start_time": "2024-08-07T06:20:59.001199Z"
    }
   },
   "cell_type": "code",
   "source": "print(f'RMSSE: {rmsse(train, val, preds)}')",
   "outputs": [
    {
     "name": "stderr",
     "output_type": "stream",
     "text": [
      "/tmp/ipykernel_132282/3521453703.py:7: FutureWarning: The default of observed=False is deprecated and will be changed to True in a future version of pandas. Pass observed=False to retain current behavior or observed=True to adopt the future default and silence this warning.\n",
      "  scale=train.groupby('id').sales.diff() ** 2,\n",
      "/tmp/ipykernel_132282/3521453703.py:9: FutureWarning: The default of observed=False is deprecated and will be changed to True in a future version of pandas. Pass observed=False to retain current behavior or observed=True to adopt the future default and silence this warning.\n",
      "  .groupby('id')\n"
     ]
    },
    {
     "name": "stdout",
     "output_type": "stream",
     "text": [
      "RMSSE: inf\n"
     ]
    },
    {
     "name": "stderr",
     "output_type": "stream",
     "text": [
      "/tmp/ipykernel_132282/3521453703.py:17: FutureWarning: The default of observed=False is deprecated and will be changed to True in a future version of pandas. Pass observed=False to retain current behavior or observed=True to adopt the future default and silence this warning.\n",
      "  .groupby('id')\n"
     ]
    }
   ],
   "execution_count": 29
  },
  {
   "attachments": {},
   "cell_type": "markdown",
   "metadata": {},
   "source": [
    "Write a brief summary of what helped your models and what didn't help. Was it what you expected?\n",
    "\n",
    "I'm finishing this late and I just need to get it in. Sorry for the lack of insight!"
   ]
  }
 ],
 "metadata": {
  "kernelspec": {
   "display_name": "kaggle",
   "language": "python",
   "name": "python3"
  },
  "language_info": {
   "codemirror_mode": {
    "name": "ipython",
    "version": 3
   },
   "file_extension": ".py",
   "mimetype": "text/x-python",
   "name": "python",
   "nbconvert_exporter": "python",
   "pygments_lexer": "ipython3",
   "version": "3.9.13"
  },
  "orig_nbformat": 4,
  "vscode": {
   "interpreter": {
    "hash": "5768b04258121350f986a32a10c2b5b63ea833426012d4b5b8a887aeeef377c3"
   }
  }
 },
 "nbformat": 4,
 "nbformat_minor": 2
}
